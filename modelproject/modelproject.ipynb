{
 "cells": [
  {
   "cell_type": "markdown",
   "metadata": {},
   "source": [
    "# Solow model with human capital"
   ]
  },
  {
   "cell_type": "markdown",
   "metadata": {},
   "source": [
    "Imports and set magics:"
   ]
  },
  {
   "cell_type": "code",
   "execution_count": 365,
   "metadata": {},
   "outputs": [
    {
     "name": "stdout",
     "output_type": "stream",
     "text": [
      "The autoreload extension is already loaded. To reload it, use:\n",
      "  %reload_ext autoreload\n"
     ]
    }
   ],
   "source": [
    "# Imports required to read the code\n",
    "import numpy as np\n",
    "from scipy import optimize\n",
    "import sympy as sm\n",
    "from sympy import *\n",
    "import random\n",
    "\n",
    "# Imports required to plot\n",
    "import ipywidgets as widgets\n",
    "import matplotlib.pyplot as plt\n",
    "\n",
    "# Autoreload modules when code is run\n",
    "%load_ext autoreload\n",
    "%autoreload 2\n",
    "\n",
    "# Local modules\n",
    "import modelproject as mp"
   ]
  },
  {
   "cell_type": "markdown",
   "metadata": {},
   "source": [
    "# Description of the Solow model with human capital"
   ]
  },
  {
   "cell_type": "markdown",
   "metadata": {},
   "source": [
    "The Solow model with human capital contains the following variables:\n",
    "1. $K_t$ is physical capital\n",
    "2. $H_t$ is human capital\n",
    "3. $L_t$ is labor (growing with a constant rate of $n$)\n",
    "4. $A_t$ is technology (growing with a constant rate of $g$)\n",
    "5. $Y_t = F(K_t,H_t,A_tL_t)$ is GDP\n",
    "6. $s_K$ is the savings rate for physical capital\n",
    "7. $s_H$ is the savings rate for human capital\n",
    "\n",
    "The Solow model with human capital is defined by the following equations:\n",
    "\n",
    "The Cobb-Douglas production function:\n",
    "$$ Y_{t} = F(K_{t},H_{t},A_{t}L_{t})=K_{t}^{\\alpha}H_{t}^{\\phi}(A_{t}L_{t})^{1-\\alpha-\\phi} $$\n",
    "  where\n",
    "  $$ 0<\\alpha<1$$ \n",
    "  $$0<\\phi<1$$\n",
    "  $$\\alpha+\\phi<1  $$\n",
    "with growth in labor and technology given by:\n",
    "$$ L_{t+1}=(1+n)L_{t}$$\n",
    "$$ A_{t+1}=(1+g)A_{t}$$\n",
    "\n",
    "\n",
    "Saving of human and physical capital as a constant fraction of GDP:\n",
    "$$ S_t = (s_{K}+s_{H})Y_t $$\n",
    "  where\n",
    "  $$ s_{K}+s_{H} <1 $$\n",
    "\n",
    "Capital accumulation for physical capital:\n",
    "$$ K_{t+1} = s_{K}Y_{t}+(1-\\delta)K_{t}$$\n",
    "\n",
    "Capital accumulation for human capital:\n",
    "$$ H_{t+1} = s_{H}Y_{t}+(1-\\delta)H_{t}$$\n",
    "\n",
    "Technological adjusted variables are given by:\n",
    "$$\\tilde{k}_t = \\frac{K_t}{A_{t}L_{t}}$$\n",
    "$$\\tilde{h}_t = \\frac{H_t}{A_{t}L_{t}}$$\n",
    "$$\\tilde{y}_t = \\frac{Y_t}{A_{t}L_{t}} = \\frac{K_{t}^{\\alpha}H_{t}^{\\phi}(A_{t}L_{t})^{1-\\alpha-\\phi}}{A_{t}L_{t}} = \\tilde{k}_t^\\alpha \\tilde{h}_t^\\phi$$\n",
    "which implies that the productions function has constant return to scale.\n",
    "\n",
    "The transition equation for physical capital:\n",
    "$$\\tilde{k}_{t+1}=\\frac{1}{(1+n)(1+g)}[s_{K}\\tilde{k}_t^\\alpha \\tilde{h}_t^\\phi+(1-\\delta)\\tilde{k}_t]$$\n",
    "\n",
    "The transition equation for human capital:\n",
    "$$\\tilde{h}_{t+1}=\\frac{1}{(1+n)(1+g)}[s_{H}\\tilde{k}_t^\\alpha \\tilde{h}_t^\\phi+(1-\\delta)\\tilde{h}_t]$$"
   ]
  },
  {
   "cell_type": "markdown",
   "metadata": {},
   "source": [
    "## Analytical solution"
   ]
  },
  {
   "cell_type": "markdown",
   "metadata": {},
   "source": [
    "I define the the variables using Sympy:"
   ]
  },
  {
   "cell_type": "code",
   "execution_count": 366,
   "metadata": {},
   "outputs": [],
   "source": [
    "k = sm.symbols('k')\n",
    "h = sm.symbols('h')\n",
    "alpha = sm.symbols('alpha')\n",
    "phi = sm.symbols('phi')\n",
    "delta = sm.symbols('delta')\n",
    "s_K = sm.symbols('s_K')\n",
    "s_H = sm.symbols('s_H')\n",
    "g = sm.symbols('g')\n",
    "n = sm.symbols('n')"
   ]
  },
  {
   "cell_type": "markdown",
   "metadata": {},
   "source": [
    "Set up transition equation for physical capital and solve:"
   ]
  },
  {
   "cell_type": "code",
   "execution_count": 367,
   "metadata": {},
   "outputs": [
    {
     "data": {
      "text/latex": [
       "$\\displaystyle \\left(\\frac{h^{- \\phi} \\left(\\delta + g n + g + n\\right)}{s_{K}}\\right)^{\\frac{1}{\\alpha - 1}}$"
      ],
      "text/plain": [
       "((delta + g*n + g + n)/(h**phi*s_K))**(1/(alpha - 1))"
      ]
     },
     "execution_count": 367,
     "metadata": {},
     "output_type": "execute_result"
    }
   ],
   "source": [
    "# Define f(k*h*)\n",
    "f = k**alpha*h**phi\n",
    "\n",
    "# Define steady state for physical capital \n",
    "ss_K = sm.Eq(k,(s_K*f+(1-delta)*k)/((1+n)*(1+g)))\n",
    "\n",
    "# Solve steady state for k\n",
    "kss = sm.solve(ss_K,k)[0]\n",
    "\n",
    "# Display solution \n",
    "kss "
   ]
  },
  {
   "cell_type": "markdown",
   "metadata": {},
   "source": [
    "Set up transition equation for human capital and solve:"
   ]
  },
  {
   "cell_type": "code",
   "execution_count": 368,
   "metadata": {},
   "outputs": [
    {
     "data": {
      "text/latex": [
       "$\\displaystyle \\left(\\frac{k^{- \\alpha} \\left(\\delta + g n + g + n\\right)}{s_{H}}\\right)^{\\frac{1}{\\phi - 1}}$"
      ],
      "text/plain": [
       "((delta + g*n + g + n)/(k**alpha*s_H))**(1/(phi - 1))"
      ]
     },
     "execution_count": 368,
     "metadata": {},
     "output_type": "execute_result"
    }
   ],
   "source": [
    "# Define steady state for human capital\n",
    "ss_H = sm.Eq(h,(s_H*f+(1-delta)*h)/((1+n)*(1+g)))\n",
    "\n",
    "# Solve steady state for h\n",
    "hss = sm.solve(ss_H,h)[0]\n",
    "\n",
    "# Display solution \n",
    "hss"
   ]
  },
  {
   "cell_type": "markdown",
   "metadata": {},
   "source": [
    "I turn the Sympy-functions into Python-functions using lambdify to find the steady state values:"
   ]
  },
  {
   "cell_type": "code",
   "execution_count": 369,
   "metadata": {},
   "outputs": [
    {
     "data": {
      "text/latex": [
       "$\\displaystyle 2.6213281042763 h^{0.5}$"
      ],
      "text/plain": [
       "2.6213281042763*h**0.5"
      ]
     },
     "execution_count": 369,
     "metadata": {},
     "output_type": "execute_result"
    }
   ],
   "source": [
    "# ss_k-function with 7 arguments \n",
    "ss_func_k = sm.lambdify((s_K, s_H,g,n,delta,alpha, phi),kss)\n",
    "\n",
    "# Evaluate functions\n",
    "ss_func_k(0.2,0.1,0.02,0.01,0.075,1/3, 1/3)"
   ]
  },
  {
   "cell_type": "code",
   "execution_count": 370,
   "metadata": {},
   "outputs": [
    {
     "data": {
      "text/latex": [
       "$\\displaystyle 0.926779439124325 k^{0.5}$"
      ],
      "text/plain": [
       "0.926779439124325*k**0.5"
      ]
     },
     "execution_count": 370,
     "metadata": {},
     "output_type": "execute_result"
    }
   ],
   "source": [
    "# ss_h-function with 7 arguments \n",
    "ss_func_h = sm.lambdify((s_K, s_H,g,n,delta,alpha, phi),hss)\n",
    "\n",
    "# Evaluate function\n",
    "ss_func_h(0.15,0.1,0.02,0.01,0.075,1/3, 1/3)"
   ]
  },
  {
   "cell_type": "markdown",
   "metadata": {},
   "source": [
    "## Numerical solution"
   ]
  },
  {
   "cell_type": "markdown",
   "metadata": {},
   "source": [
    "### Algorithm\n",
    "\n",
    "The algorithm contains 4 steps:\n",
    "1. Initialize the parameters of the model given by the saving rate in physical and human capital, $s_K$ and $s_H$, the growth in technology, $g$, the growth in population, $n$, return on physical and human capital, $\\alpha$ and $\\phi$, and the depriciation rate, $\\delta$.\n",
    "\n",
    "2. Set the function for the Solow equations, given by an equation for physical capital and an equation for human capital.\n",
    "    - Set the variables and parameters contained in the equations\n",
    "    - Define the Solow equations for $\\tilde{k}$ and $\\tilde{h}$\n",
    "\n",
    "3. Set up a for-loop and call the solver\n",
    "    - Set initial guess for the values of $\\tilde{k}$ and $\\tilde{h}$\n",
    "    - Create empty lists for the solutions\n",
    "    - Set up a for-loop \n",
    "    - Call the optimize.root solver\n",
    "    - Append the solutions to the lists\n",
    "\n",
    "4. Display the result\n",
    "    - Solve the model for the given parameter values\n",
    "    - Print the solution\n"
   ]
  },
  {
   "cell_type": "code",
   "execution_count": 371,
   "metadata": {},
   "outputs": [],
   "source": [
    "# Step 1: Initialize the baseline parameters \n",
    "s_K = 0.15\n",
    "s_H = 0.10\n",
    "g = 0.02\n",
    "n = 0.01\n",
    "alpha = 1/3\n",
    "phi = 1/3\n",
    "delta = 0.075"
   ]
  },
  {
   "cell_type": "code",
   "execution_count": 372,
   "metadata": {},
   "outputs": [],
   "source": [
    "# Step 2: Set the Solow equations\n",
    "def solow_equations(vars , s_K, s_H, n , g, delta, alpha, phi):\n",
    "\n",
    "    k_tilde , h_tilde = vars\n",
    "\n",
    "    solow_k = (s_K * k_tilde**alpha * h_tilde**phi - (delta + n + g + n*g)*k_tilde)/((1+n)*(1+g))\n",
    "    solow_h = (s_H * k_tilde**alpha * h_tilde**phi - (delta + n + g + n*g)*h_tilde)/((1+n)*(1+g))\n",
    "\n",
    "    return solow_k , solow_h"
   ]
  },
  {
   "cell_type": "code",
   "execution_count": 373,
   "metadata": {},
   "outputs": [],
   "source": [
    "# Step 3: Set up the for-loop and call the solver\n",
    "def ss_solve(fun=solow_equations, x0=None, args=None, method='hybr'):\n",
    "    # Initial guess range for k_tilde and h_tilde\n",
    "    initial_guesses = [(1.0, 1.0), (2.0, 2.0), (3.0, 3.0)] \n",
    "\n",
    "    # Lists to store solutions for k_tilde and h_tilde\n",
    "    k_tilde_solutions = []\n",
    "    h_tilde_solutions = []\n",
    "\n",
    "    # Iterate over initial guesses and solve the Solow equations\n",
    "    for initial_guess in initial_guesses:\n",
    "        solution = optimize.root(solow_equations, initial_guess, args=(s_K, s_H, n, g, delta, alpha, phi), method='hybr')\n",
    "    \n",
    "        if solution.success:\n",
    "            k_tilde_solution, h_tilde_solution = solution.x\n",
    "            k_tilde_solutions.append(k_tilde_solution)\n",
    "            h_tilde_solutions.append(h_tilde_solution)\n",
    "        else:\n",
    "            print(\"Optimization failed for initial guess:\", initial_guess)\n",
    "    \n",
    "    return k_tilde_solutions , h_tilde_solutions\n",
    "\n"
   ]
  },
  {
   "cell_type": "code",
   "execution_count": 374,
   "metadata": {},
   "outputs": [
    {
     "name": "stdout",
     "output_type": "stream",
     "text": [
      "Solution 1 (k_tilde, h_tilde): (1.9325702897630859, 1.2883801931753904)\n",
      "Solution 2 (k_tilde, h_tilde): (1.9325702897630959, 1.2883801931753975)\n",
      "Solution 3 (k_tilde, h_tilde): (1.9325702897630987, 1.288380193175399)\n"
     ]
    }
   ],
   "source": [
    "# Step 4: Display solution:\n",
    "\n",
    "# Solve the model for given parameter values using the scipy.optimize.root\n",
    "k_tilde_solutions, h_tilde_solutions = ss_solve(fun=solow_equations, x0 = initial_guesses, args =(s_K, s_H, n, g, delta, alpha, phi), method='hybr' )\n",
    "\n",
    "solutions = zip(k_tilde_solutions,h_tilde_solutions)\n",
    "\n",
    "# Print solutions\n",
    "for i, solution in enumerate(solutions, start=1):\n",
    "    print(f\"Solution {i} (k_tilde, h_tilde):\", solution)"
   ]
  },
  {
   "cell_type": "markdown",
   "metadata": {},
   "source": [
    "# Further analysis"
   ]
  },
  {
   "cell_type": "markdown",
   "metadata": {},
   "source": [
    "### Plot the steady state"
   ]
  },
  {
   "cell_type": "code",
   "execution_count": 375,
   "metadata": {},
   "outputs": [],
   "source": [
    "# Define the null-clines \n",
    "def null_k(k_tilde, alpha, phi, delta, g, n, s_K):\n",
    "    return (k_tilde**(1 - alpha)*(delta + g*n + g + n)/s_K)**(1/phi)\n",
    "\n",
    "def null_h(k_tilde, alpha, phi, delta, g, n, s_H):\n",
    "    return ((delta + g*n + g + n)/(k_tilde**alpha*s_H))**(1/(phi - 1))"
   ]
  },
  {
   "cell_type": "code",
   "execution_count": 376,
   "metadata": {},
   "outputs": [
    {
     "data": {
      "image/png": "[encoded data removed]",
      "text/plain": [
       "<Figure size 1000x600 with 1 Axes>"
      ]
     },
     "metadata": {},
     "output_type": "display_data"
    }
   ],
   "source": [
    "# Define the range of k_tilde values\n",
    "k_tilde_values = np.linspace(0.01, 5, 100)\n",
    "\n",
    "# Calculate null-clines for given parameters values\n",
    "k_nullcline = null_k(k_tilde_values, alpha, phi, delta, g, n, s_K)\n",
    "h_nullcline = null_h(k_tilde_values, alpha, phi, delta, g, n, s_H)\n",
    "\n",
    "# Plot the phase diagram\n",
    "plt.figure(figsize=(10, 6))\n",
    "plt.plot(k_tilde_values, k_nullcline, label='k nullcline', color='blue', zorder=1)\n",
    "plt.plot(k_tilde_values, h_nullcline, label='h nullcline', color='red', zorder=2)\n",
    "plt.scatter(1.9325702897630954, 1.288380193175397, color='green', label='Intersection Point', zorder=3)\n",
    "plt.xlabel('k_tilde')\n",
    "plt.ylabel('h_tilde')\n",
    "plt.title('Phase Diagram')\n",
    "plt.legend()\n",
    "plt.grid(True)\n",
    "plt.show()"
   ]
  },
  {
   "cell_type": "markdown",
   "metadata": {},
   "source": [
    "### Shock to the model"
   ]
  },
  {
   "cell_type": "markdown",
   "metadata": {},
   "source": [
    "I analyse how an increase in savings rate in human capital of 20%, corresponding to a new value of 0.12, affects the phase diagram."
   ]
  },
  {
   "cell_type": "code",
   "execution_count": 377,
   "metadata": {},
   "outputs": [
    {
     "name": "stdout",
     "output_type": "stream",
     "text": [
      "Solution 1 (k_tilde, h_tilde): (2.319084347715707, 1.855267478172566)\n",
      "Solution 2 (k_tilde, h_tilde): (2.3190843477157146, 1.8552674781725718)\n",
      "Solution 3 (k_tilde, h_tilde): (2.319084347715714, 1.855267478172571)\n"
     ]
    }
   ],
   "source": [
    "#Define the increase in s_H:\n",
    "s_H = 0.12\n",
    "\n",
    "# Solve the model for given parameter values using the scipy.optimize.root\n",
    "k_tilde_solutions, h_tilde_solutions = ss_solve(fun=solow_equations, x0 = initial_guesses, args =(s_K, s_H, n, g, delta, alpha, phi), method='hybr' )\n",
    "\n",
    "solutions = zip(k_tilde_solutions,h_tilde_solutions)\n",
    "\n",
    "# Print solutions\n",
    "for i, solution in enumerate(solutions, start=1):\n",
    "    print(f\"Solution {i} (k_tilde, h_tilde):\", solution)"
   ]
  },
  {
   "cell_type": "code",
   "execution_count": 378,
   "metadata": {},
   "outputs": [
    {
     "data": {
      "image/png": "[encoded data removed]",
      "text/plain": [
       "<Figure size 1000x600 with 1 Axes>"
      ]
     },
     "metadata": {},
     "output_type": "display_data"
    }
   ],
   "source": [
    "# Define the range of k_tilde values\n",
    "k_tilde_values = np.linspace(0.01, 5, 100)\n",
    "\n",
    "# Calculate null-clines for given parameters values\n",
    "k_nullcline = null_k(k_tilde_values, alpha, phi, delta, g, n, s_K)\n",
    "h_nullcline = null_h(k_tilde_values, alpha, phi, delta, g, n, 0.10)\n",
    "h_nullcline_new = null_h(k_tilde_values, alpha, phi, delta, g, n, 0.12)\n",
    "\n",
    "# Plot the phase diagram\n",
    "plt.figure(figsize=(10, 6))\n",
    "plt.plot(k_tilde_values, k_nullcline, label='k nullcline', color='blue', zorder=1)\n",
    "plt.plot(k_tilde_values, h_nullcline, label='h nullcline', color='red', zorder=2)\n",
    "plt.plot(k_tilde_values, h_nullcline_new, label='h nullcline_new', color='green', zorder=3)\n",
    "plt.scatter(1.9325702897630954, 1.288380193175397, color='orange', label='Intersection Point', zorder=4)\n",
    "plt.scatter(2.319084347715714, 1.855267478172571, color='purple', label='Intersection Point New', zorder=5)\n",
    "plt.xlabel('k_tilde')\n",
    "plt.ylabel('h_tilde')\n",
    "plt.title('Phase Diagram')\n",
    "plt.legend()\n",
    "plt.grid(True)\n",
    "plt.show()"
   ]
  },
  {
   "cell_type": "markdown",
   "metadata": {},
   "source": [
    "An increase in the savings rate of human capital will increase human capital. When human capital increase the workers become more efficient, which will lead to an increase in GDP. \n"
   ]
  },
  {
   "cell_type": "markdown",
   "metadata": {},
   "source": [
    "## Extenting the Solow model with human capital to include R&D"
   ]
  },
  {
   "cell_type": "markdown",
   "metadata": {},
   "source": [
    "I extend the Solow model with human capital by adding R&D, shown by having to different types of labor. This implies changes to the production function and the capital accumulation equations for both physical and human capital."
   ]
  },
  {
   "cell_type": "markdown",
   "metadata": {},
   "source": [
    "The Solow model with human capital and R&D contains the following variables:\n",
    "1. $K_t$ is phisical capital\n",
    "2. $H_t$ is human capital\n",
    "3. $L_{t}$ is labor (growing with a constant rate of $n$)\n",
    "4. $L_{Yt}$ is production labor\n",
    "5. $L_{At}$ is research labor\n",
    "6. $A_t$ is technology (depending on research labor)\n",
    "7. $Y_t = F(K_t,A_tL_t)$ is GDP\n",
    "8. $s_K$ is the savings rate for physical capital\n",
    "9. $s_H$ is the savings rate for human capital\n",
    "10. $s_R$ is the share of the total population who are research labor \n",
    "\n",
    "The Solow model with human capital is defined by the following equations:\n",
    "\n",
    "The Cobb-Douglas production function:\n",
    "$$ Y_{t} = F(K_{t},H_{t},A_{t}L_{Yt})=K_{t}^{\\alpha}H_{t}^{\\phi}(A_{t}L_{Yt})^{1-\\alpha-\\phi} $$\n",
    "  where\n",
    "  $$ 0<\\alpha<1$$ \n",
    "  $$0<\\phi<1$$\n",
    "  $$\\alpha+\\phi<1  $$\n",
    "with growth in the total labor force and technology given by:\n",
    "$$ L_{t+1}=(1+n)L_{t}$$\n",
    "$$ A_{t+1}=\\rho A_{t}^{\\sigma} L_{At}^{\\lambda}+A_{t}$$\n",
    "where\n",
    "$$ \\rho >0 $$\n",
    "$$ \\sigma >0 $$\n",
    "$$ 0=<\\lambda<1 $$\n",
    "\n",
    "The share of research labor is given by:\n",
    "$$ L_{At}=s_{R}L_{t}$$\n",
    "where\n",
    "$$ 0<s_{R}<1$$\n",
    "\n",
    "The total labor force is given by:\n",
    "$$ L_{t}=L_{At}+L_{Yt} $$\n",
    "\n",
    "Saving of human and physical capital as a constant fraction of GDP:\n",
    "$$ S_t = (s_{K}+s_{H})Y_t $$\n",
    "  where\n",
    "  $$ s_{K}+s_{H} <1 $$\n",
    "\n",
    "Capital accumulation for physical capital:\n",
    "$$ K_{t+1} = s_{K}Y_{t}+(1-\\delta)K_{t}$$\n",
    "\n",
    "Capital accumulation for human capital:\n",
    "$$ H_{t+1} = s_{H}Y_{t}+(1-\\delta)H_{t}$$\n",
    "\n",
    "Technological adjusted variables are given by:\n",
    "$$\\tilde{k}_t = \\frac{K_t}{L_{Yt}}$$\n",
    "$$\\tilde{h}_t = \\frac{H_t}{L_{Yt}}$$\n",
    "$$\\tilde{y}_t = \\frac{Y_t}{L_{Yt}} = \\frac{K_{t}^{\\alpha}H_{t}^{\\phi}(A_{t}L_{Yt})^{1-\\alpha-\\phi}}{L_{Yt}} = \\tilde{k}_t^\\alpha \\tilde{h}_t^\\phi A_t^{1-\\alpha-\\phi}$$\n",
    "\n",
    "The transition equation for physical capital:\n",
    "$$\\tilde{k}_{t+1}=\\frac{1}{(1+n)(1+g)}[s_{K}\\tilde{k}_t^\\alpha \\tilde{h}_t^\\phi (1-s_R)^{1-\\alpha-\\phi}+(1-\\delta)\\tilde{k}_t]$$\n",
    "\n",
    "The transition equation for human capital:\n",
    "$$\\tilde{h}_{t+1}=\\frac{1}{(1+n)(1+g)}[s_{H}\\tilde{k}_t^\\alpha \\tilde{h}_t^\\phi (1-s_R)^{1-\\alpha-\\phi}+ (1-\\delta)\\tilde{h}_t]$$"
   ]
  },
  {
   "cell_type": "code",
   "execution_count": 382,
   "metadata": {},
   "outputs": [],
   "source": [
    "# Step 1: Initialize the baseline parameters \n",
    "s_K = 0.15\n",
    "s_H = 0.10\n",
    "g = 0.00\n",
    "n = 0.01\n",
    "alpha = 1/3\n",
    "phi = 1/3\n",
    "delta = 0.075\n",
    "rho = 10\n",
    "sigma = 0.9\n",
    "lambd = 0.9\n",
    "s_R = 0.2"
   ]
  },
  {
   "cell_type": "code",
   "execution_count": 383,
   "metadata": {},
   "outputs": [],
   "source": [
    "# Step 2: Set the Solow equations\n",
    "def solow_equations_new(vars_new , s_K, s_H, n , g, delta, alpha, phi, s_R):\n",
    "\n",
    "    k_tilde , h_tilde = vars_new\n",
    "\n",
    "    solow_k = (s_K * k_tilde**alpha * h_tilde**phi * (1-s_R)**(1-alpha-phi) - (delta + n + g + n*g)*k_tilde)/((1+n)*(1+g))\n",
    "    solow_h = (s_H * k_tilde**alpha * h_tilde**phi * (1-s_R)**(1-alpha-phi) - (delta + n + g + n*g)*h_tilde)/((1+n)*(1+g))\n",
    "\n",
    "    return solow_k , solow_h"
   ]
  },
  {
   "cell_type": "code",
   "execution_count": 384,
   "metadata": {},
   "outputs": [],
   "source": [
    "def ss_solve_new(fun=solow_equations_new, x0=None, args=None, method='hybr'):\n",
    "    # Initial guess range for k_tilde and h_tilde\n",
    "    initial_guesses = [(1.0, 1.0), (2.0, 2.0), (3.0, 3.0)] \n",
    "\n",
    "    # Lists to store solutions for k_tilde and h_tilde\n",
    "    k_tilde_solutions = []\n",
    "    h_tilde_solutions = []\n",
    "\n",
    "    # Iterate over initial guesses and solve the Solow equations\n",
    "    for initial_guess in initial_guesses:\n",
    "        solution = optimize.root(solow_equations_new, initial_guess, args=(s_K, s_H, n, g, delta, alpha, phi, s_R), method='hybr')\n",
    "    \n",
    "        if solution.success:\n",
    "            k_tilde_solution, h_tilde_solution = solution.x\n",
    "            k_tilde_solutions.append(k_tilde_solution)\n",
    "            h_tilde_solutions.append(h_tilde_solution)\n",
    "        else:\n",
    "            print(\"Optimization failed for initial guess:\", initial_guess)\n",
    "    \n",
    "    return k_tilde_solutions , h_tilde_solutions\n"
   ]
  },
  {
   "cell_type": "code",
   "execution_count": 385,
   "metadata": {},
   "outputs": [
    {
     "name": "stdout",
     "output_type": "stream",
     "text": [
      "Solution 1 (k_tilde, h_tilde): (2.9309993893751263, 1.9539995929167513)\n",
      "Solution 2 (k_tilde, h_tilde): (2.930999389375126, 1.953999592916751)\n",
      "Solution 3 (k_tilde, h_tilde): (2.930999389375123, 1.9539995929167493)\n"
     ]
    }
   ],
   "source": [
    "# Solve the model for given parameter values using the scipy.optimize.root\n",
    "k_tilde_solutions, h_tilde_solutions = ss_solve_new(fun=solow_equations, x0 = initial_guesses, args =(s_K, s_H, n, g, delta, alpha, phi, s_R), method='hybr' )\n",
    "\n",
    "solutions = zip(k_tilde_solutions,h_tilde_solutions)\n",
    "\n",
    "# Print solutions\n",
    "for i, solution in enumerate(solutions, start=1):\n",
    "    print(f\"Solution {i} (k_tilde, h_tilde):\", solution)"
   ]
  },
  {
   "cell_type": "markdown",
   "metadata": {},
   "source": [
    "# Conclusion"
   ]
  },
  {
   "cell_type": "markdown",
   "metadata": {},
   "source": [
    "I have found the solution to the steady state for the Solow model with human capital and displayed the transition.\n",
    "I have analyzed what happens, given a shock to one of the parameters of the model and displayed the new transition into steady staete.\n",
    "\n",
    "I have extended the model to contain two types of labor, by adding research and development to the model. R&D implies that the growth in  technology depends on the R&D-labor, and hence the GDP and physical and human capital can no longer be adjusted for the technological development. "
   ]
  }
 ],
 "metadata": {
  "kernelspec": {
   "display_name": "base",
   "language": "python",
   "name": "python3"
  },
  "language_info": {
   "codemirror_mode": {
    "name": "ipython",
    "version": 3
   },
   "file_extension": ".py",
   "mimetype": "text/x-python",
   "name": "python",
   "nbconvert_exporter": "python",
   "pygments_lexer": "ipython3",
   "version": "3.9.15"
  },
  "toc-autonumbering": true,
  "vscode": {
   "interpreter": {
    "hash": "47ef90cdf3004d3f859f1fb202523c65c07ba7c22eefd261b181f4744e2d0403"
   }
  }
 },
 "nbformat": 4,
 "nbformat_minor": 4
}

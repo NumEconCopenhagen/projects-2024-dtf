{
 "cells": [
  {
   "cell_type": "markdown",
   "metadata": {},
   "source": [
    "# Solow-model with human capital and technological growth "
   ]
  },
  {
   "cell_type": "markdown",
   "metadata": {},
   "source": [
    "Imports and set magics:"
   ]
  },
  {
   "cell_type": "code",
   "execution_count": 45,
   "metadata": {},
   "outputs": [
    {
     "name": "stdout",
     "output_type": "stream",
     "text": [
      "The autoreload extension is already loaded. To reload it, use:\n",
      "  %reload_ext autoreload\n",
      "initializing the model:\n",
      "calling .setup()\n"
     ]
    }
   ],
   "source": [
    "# Imports required to read the code\n",
    "import numpy as np\n",
    "from scipy import optimize\n",
    "import sympy as sm\n",
    "from sympy import *\n",
    "\n",
    "# Imports required to plot\n",
    "import ipywidgets as widgets\n",
    "import matplotlib.pyplot as plt\n",
    "\n",
    "# Autoreload modules when code is run\n",
    "%load_ext autoreload\n",
    "%autoreload 2\n",
    "\n",
    "# Local modules\n",
    "from modelproject import SolowClass\n",
    "model = SolowClass()"
   ]
  },
  {
   "cell_type": "markdown",
   "metadata": {},
   "source": [
    "# Description of the Solow model with human capital"
   ]
  },
  {
   "cell_type": "markdown",
   "metadata": {},
   "source": [
    "The Solow model with human capital contains the following variables:\n",
    "1. $K_t$ is physical capital\n",
    "2. $H_t$ is human capital\n",
    "3. $L_t$ is labor (growing with a constant rate of $n$)\n",
    "4. $A_t$ is technology (growing with a constant rate of $g$)\n",
    "5. $Y_t = F(K_t,H_t,A_tL_t)$ is GDP\n",
    "6. $s_K$ is the savings rate for physical capital\n",
    "7. $s_H$ is the savings rate for human capital\n",
    "\n",
    "The Solow model with human capital is defined by the following equations:\n",
    "\n",
    "The Cobb-Douglas production function:\n",
    "$$ Y_{t} = F(K_{t},H_{t},A_{t}L_{t})=K_{t}^{\\alpha}H_{t}^{\\phi}(A_{t}L_{t})^{1-\\alpha-\\phi} $$\n",
    "  where\n",
    "  $$ 0<\\alpha<1$$ \n",
    "  $$0<\\phi<1$$\n",
    "  $$\\alpha+\\phi<1  $$\n",
    "with growth in labor and technology given by:\n",
    "$$ L_{t+1}=(1+n)L_{t}$$\n",
    "$$ A_{t+1}=(1+g)A_{t}$$\n",
    "\n",
    "\n",
    "Saving of human and physical capital as a constant fraction of GDP:\n",
    "$$ S_t = (s_{K}+s_{H})Y_t $$\n",
    "  where\n",
    "  $$ s_{K}+s_{H} <1 $$\n",
    "\n",
    "Capital accumulation for physical capital:\n",
    "$$ K_{t+1} = s_{K}Y_{t}+(1-\\delta)K_{t}$$\n",
    "\n",
    "Capital accumulation for human capital:\n",
    "$$ H_{t+1} = s_{H}Y_{t}+(1-\\delta)H_{t}$$\n",
    "\n",
    "Technological adjusted variables are given by:\n",
    "$$\\tilde{k}_t = \\frac{K_t}{A_{t}L_{t}}$$\n",
    "$$\\tilde{h}_t = \\frac{H_t}{A_{t}L_{t}}$$\n",
    "$$\\tilde{y}_t = \\frac{Y_t}{A_{t}L_{t}} = \\frac{K_{t}^{\\alpha}H_{t}^{\\phi}(A_{t}L_{t})^{1-\\alpha-\\phi}}{A_{t}L_{t}} = \\tilde{k}_t^\\alpha \\tilde{h}_t^\\phi$$\n",
    "which implies that the productions function has constant return to scale.\n",
    "\n",
    "The transition equation for physical capital:\n",
    "$$\\tilde{k}_{t+1}=\\frac{1}{(1+n)(1+g)}[s_{K}\\tilde{k}_t^\\alpha \\tilde{h}_t^\\phi+(1-\\delta)\\tilde{k}_t]$$\n",
    "\n",
    "The transition equation for human capital:\n",
    "$$\\tilde{h}_{t+1}=\\frac{1}{(1+n)(1+g)}[s_{H}\\tilde{k}_t^\\alpha \\tilde{h}_t^\\phi+(1-\\delta)\\tilde{h}_t]$$"
   ]
  },
  {
   "cell_type": "markdown",
   "metadata": {},
   "source": [
    "## Analytical solution"
   ]
  },
  {
   "cell_type": "markdown",
   "metadata": {},
   "source": [
    "If your model allows for an analytical solution, you should provide here.\n",
    "\n",
    "You may use Sympy for this. Then you can characterize the solution as a function of a parameter of the model.\n",
    "\n",
    "To characterize the solution, first derive a steady state equation as a function of a parameter using Sympy.solve and then turn it into a python function by Sympy.lambdify. See the lecture notes for details. "
   ]
  },
  {
   "cell_type": "code",
   "execution_count": 36,
   "metadata": {},
   "outputs": [],
   "source": [
    "k = sm.symbols('k')\n",
    "h = sm.symbols('h')\n",
    "alpha = sm.symbols('alpha')\n",
    "phi = sm.symbols('phi')\n",
    "delta = sm.symbols('delta')\n",
    "s_K = sm.symbols('s_K')\n",
    "s_H = sm.symbols('s_H')\n",
    "g = sm.symbols('g')\n",
    "n = sm.symbols('n')"
   ]
  },
  {
   "cell_type": "code",
   "execution_count": 37,
   "metadata": {},
   "outputs": [
    {
     "data": {
      "text/latex": [
       "$\\displaystyle \\left(\\frac{h^{- \\phi} \\left(\\delta + g n + g + n\\right)}{s_{K}}\\right)^{\\frac{1}{\\alpha - 1}}$"
      ],
      "text/plain": [
       "((delta + g*n + g + n)/(h**phi*s_K))**(1/(alpha - 1))"
      ]
     },
     "execution_count": 37,
     "metadata": {},
     "output_type": "execute_result"
    }
   ],
   "source": [
    "# Define f(k*h*)\n",
    "f = k**alpha*h**phi\n",
    "\n",
    "# Define steady state for physical capital \n",
    "ss_K = sm.Eq(k,(s_K*f+(1-delta)*k)/((1+n)*(1+g)))\n",
    "\n",
    "# Solve steady state for k\n",
    "kss = sm.solve(ss_K,k)[0]\n",
    "\n",
    "# Display solution \n",
    "kss"
   ]
  },
  {
   "cell_type": "code",
   "execution_count": 38,
   "metadata": {},
   "outputs": [
    {
     "data": {
      "text/latex": [
       "$\\displaystyle \\left(\\frac{k^{- \\alpha} \\left(\\delta + g n + g + n\\right)}{s_{H}}\\right)^{\\frac{1}{\\phi - 1}}$"
      ],
      "text/plain": [
       "((delta + g*n + g + n)/(k**alpha*s_H))**(1/(phi - 1))"
      ]
     },
     "execution_count": 38,
     "metadata": {},
     "output_type": "execute_result"
    }
   ],
   "source": [
    "# Define steady state for human capital\n",
    "ss_H = sm.Eq(h,(s_H*f+(1-delta)*h)/((1+n)*(1+g)))\n",
    "\n",
    "# Solve steady state for h\n",
    "hss = sm.solve(ss_H,h)[0]\n",
    "\n",
    "# Display solution \n",
    "hss"
   ]
  },
  {
   "cell_type": "code",
   "execution_count": 39,
   "metadata": {},
   "outputs": [
    {
     "data": {
      "text/latex": [
       "$\\displaystyle 1.90383153923132 h^{0.5}$"
      ],
      "text/plain": [
       "1.90383153923132*h**0.5"
      ]
     },
     "execution_count": 39,
     "metadata": {},
     "output_type": "execute_result"
    }
   ],
   "source": [
    "# kss-function with 5 arguments \n",
    "ss_func_k = sm.lambdify((s_K, s_H,g,n,delta,alpha, phi),kss)\n",
    "\n",
    "# Evaluate function\n",
    "ss_func_k(0.2,0.2,0.02,0.01,0.1,1/3, 1/3)"
   ]
  },
  {
   "cell_type": "code",
   "execution_count": 40,
   "metadata": {},
   "outputs": [
    {
     "data": {
      "text/latex": [
       "$\\displaystyle 1.90383153923132 k^{0.5}$"
      ],
      "text/plain": [
       "1.90383153923132*k**0.5"
      ]
     },
     "execution_count": 40,
     "metadata": {},
     "output_type": "execute_result"
    }
   ],
   "source": [
    "# kss-function with 5 arguments \n",
    "ss_func_h = sm.lambdify((s_K, s_H,g,n,delta,alpha, phi),hss)\n",
    "\n",
    "# Evaluate function\n",
    "ss_func_h(0.2,0.2,0.02,0.01,0.1,1/3, 1/3)"
   ]
  },
  {
   "cell_type": "markdown",
   "metadata": {},
   "source": [
    "## Numerical solution"
   ]
  },
  {
   "cell_type": "markdown",
   "metadata": {},
   "source": [
    "You can always solve a model numerically. \n",
    "\n",
    "Define first the set of parameters you need. \n",
    "\n",
    "Then choose one of the optimization algorithms that we have gone through in the lectures based on what you think is most fitting for your model.\n",
    "\n",
    "Are there any problems with convergence? Does the model converge for all starting values? Make a lot of testing to figure these things out. "
   ]
  },
  {
   "cell_type": "markdown",
   "metadata": {},
   "source": [
    "### Algorithm\n",
    "\n",
    "The algorithm contains XX steps:\n",
    "1. Initialize the parameters of the model given by, the saving rate in physical and human capital, s_K and s_H, the growth in technology, g, the growth in population, n, return on physical and human capital, alpha and phi, and the depriciation rate, delta.\n",
    "\n",
    "2. Set the function for the Solow equations, given by an equation for physical capital and an equation for human capital.\n",
    "    - Set the variables and parameters contained in the equations\n",
    "    - Define the Solow equations for $\\tilde{k}$ and $\\tilde{h}$\n",
    "\n",
    "3. Set up an optimizer to solve the equations\n",
    "    - Set initial guess for the values of $\\tilde{k}$ and $\\tilde{h}$\n",
    "    - Call the optimize.root solver\n"
   ]
  },
  {
   "cell_type": "code",
   "execution_count": 51,
   "metadata": {},
   "outputs": [],
   "source": [
    "# Step 1: Initialize the baseline parameters \n",
    "s_K = 0.2\n",
    "s_H = 0.2\n",
    "g = 0.02\n",
    "n = 0.01\n",
    "alpha = 1/3\n",
    "phi = 1/3\n",
    "delta = 0.1"
   ]
  },
  {
   "cell_type": "code",
   "execution_count": 54,
   "metadata": {},
   "outputs": [
    {
     "ename": "NameError",
     "evalue": "name 'solow_k' is not defined",
     "output_type": "error",
     "traceback": [
      "\u001b[0;31m---------------------------------------------------------------------------\u001b[0m",
      "\u001b[0;31mNameError\u001b[0m                                 Traceback (most recent call last)",
      "Cell \u001b[0;32mIn[54], line 4\u001b[0m\n\u001b[1;32m      1\u001b[0m \u001b[38;5;66;03m# Step 2: Set the Solow equations\u001b[39;00m\n\u001b[1;32m      2\u001b[0m model\u001b[38;5;241m.\u001b[39msolow_equations\n\u001b[0;32m----> 4\u001b[0m \u001b[38;5;28mprint\u001b[39m(\u001b[43msolow_k\u001b[49m, solow_h)\n",
      "\u001b[0;31mNameError\u001b[0m: name 'solow_k' is not defined"
     ]
    }
   ],
   "source": [
    "# Step 2: Set the Solow equations\n",
    "model.solow_equations"
   ]
  },
  {
   "cell_type": "code",
   "execution_count": 49,
   "metadata": {},
   "outputs": [
    {
     "ename": "SyntaxError",
     "evalue": "positional argument follows keyword argument (2406840778.py, line 9)",
     "output_type": "error",
     "traceback": [
      "\u001b[0;36m  Cell \u001b[0;32mIn[49], line 9\u001b[0;36m\u001b[0m\n\u001b[0;31m    solution = optimize.root(fun = model.solow_equations, vars0, method='hybr', args = None)\u001b[0m\n\u001b[0m                                                                                           ^\u001b[0m\n\u001b[0;31mSyntaxError\u001b[0m\u001b[0;31m:\u001b[0m positional argument follows keyword argument\n"
     ]
    }
   ],
   "source": [
    "# Step 3: Set up the solver\n",
    "\n",
    "# Initial guess for k_tilde and h_tilde\n",
    "vars0 = [1 , 1]\n",
    "\n",
    "model.solow_equations\n",
    "\n",
    "# Solver\n",
    "solution = optimize.root(fun = model.solow_equations, vars0, method='hybr', args = None)"
   ]
  },
  {
   "cell_type": "markdown",
   "metadata": {},
   "source": [
    "# Further analysis"
   ]
  },
  {
   "cell_type": "markdown",
   "metadata": {},
   "source": [
    "Make detailed vizualizations of how your model changes with parameter values. \n",
    "\n",
    "Try to make an extension of the model. "
   ]
  },
  {
   "cell_type": "markdown",
   "metadata": {},
   "source": [
    "## Extenting the Solow model with human capital to include R&D"
   ]
  },
  {
   "cell_type": "markdown",
   "metadata": {},
   "source": [
    "I extend the Solow model with human capital by adding R&D, shown by having to different types of labor. This implies that the production function and the capital accumulation equations for both physical and human capital are unchanged. "
   ]
  },
  {
   "cell_type": "markdown",
   "metadata": {},
   "source": [
    "The Solow model with human capital and R&D contains the following variables:\n",
    "1. $K_t$ is phisical capital\n",
    "2. $H_t$ is human capital\n",
    "3. $L_{t}$ is labor (growing with a constant rate of $n$)\n",
    "4. $L_{Yt}$ is production labor\n",
    "5. $L_{At}$ is research labor\n",
    "6. $A_t$ is technology (growing with a constant rate of $g$)\n",
    "7. $Y_t = F(K_t,A_tL_t)$ is GDP\n",
    "8. $s_K$ is the savings rate for physical capital\n",
    "9. $s_H$ is the savings rate for human capital\n",
    "10. $s_R$ is the share of the total population who are research labor \n",
    "\n",
    "The Solow model with human capital is defined by the following equations:\n",
    "\n",
    "The Cobb-Douglas production function:\n",
    "$$ Y_{t} = F(K_{t},H_{t},A_{t}L_{t})=K_{t}^{\\alpha}H_{t}^{\\phi}(A_{t}L_{t})^{1-\\alpha-\\phi} $$\n",
    "  where\n",
    "  $$ 0<\\alpha<1$$ \n",
    "  $$0<\\phi<1$$\n",
    "  $$\\alpha+\\phi<1  $$\n",
    "with growth in the total labor force and technology given by:\n",
    "$$ L_{t+1}=(1+n)L_{t}$$\n",
    "$$ A_{t+1}=\\rho A_{t}^{\\sigma} L_{At}^{\\lambda}+A_{t}$$\n",
    "where\n",
    "$$ \\rho >0 $$\n",
    "$$ \\sigma >0 $$\n",
    "$$ 0=<\\lambda<1 $$\n",
    "\n",
    "The share of research labor is given by:\n",
    "$$ L_{At}=s_{R}L_{t}$$\n",
    "where\n",
    "$$ 0<s_{R}<1$$\n",
    "\n",
    "The total labor force is given by:\n",
    "$$ L_{t}=L_{At}+L_{Yt} $$\n",
    "\n",
    "Saving of human and physical capital as a constant fraction of GDP:\n",
    "$$ S_t = (s_{K}+s_{H})Y_t $$\n",
    "  where\n",
    "  $$ s_{K}+s_{H} <1 $$\n",
    "\n",
    "Capital accumulation for physical capital:\n",
    "$$ K_{t+1} = s_{K}Y_{t}+(1-\\delta)K_{t}$$\n",
    "\n",
    "Capital accumulation for human capital:\n",
    "$$ H_{t+1} = s_{H}Y_{t}+(1-\\delta)H_{t}$$\n",
    "\n",
    "Technological adjusted variables are given by:\n",
    "$$\\tilde{k}_t = \\frac{K_t}{L_{Yt}}$$\n",
    "$$\\tilde{h}_t = \\frac{H_t}{L_{Yt}}$$\n",
    "$$\\tilde{y}_t = \\frac{Y_t}{L_{Yt}} = \\frac{K_{t}^{\\alpha}H_{t}^{\\phi}(A_{t}L_{Yt})^{1-\\alpha-\\phi}}{L_{Yt}} = \\tilde{k}_t^\\alpha \\tilde{h}_t^\\phi A_t^{1-\\alpha-\\phi}$$\n",
    "\n",
    "The transition equation for physical capital:\n",
    "$$\\tilde{k}_{t+1}=\\frac{1}{(1+n)(1+g)}[s_{K}\\tilde{k}_t^\\alpha \\tilde{h}_t^\\phi+(1-\\delta)\\tilde{k}_t]$$\n",
    "\n",
    "The transition equation for human capital:\n",
    "$$\\tilde{h}_{t+1}=\\frac{1}{(1+n)(1+g)}[s_{H}\\tilde{k}_t^\\alpha \\tilde{h}_t^\\phi+(1-\\delta)\\tilde{h}_t]$$"
   ]
  },
  {
   "cell_type": "markdown",
   "metadata": {},
   "source": [
    "# Conclusion"
   ]
  },
  {
   "cell_type": "markdown",
   "metadata": {},
   "source": [
    "Add concise conclusion. "
   ]
  }
 ],
 "metadata": {
  "kernelspec": {
   "display_name": "base",
   "language": "python",
   "name": "python3"
  },
  "language_info": {
   "codemirror_mode": {
    "name": "ipython",
    "version": 3
   },
   "file_extension": ".py",
   "mimetype": "text/x-python",
   "name": "python",
   "nbconvert_exporter": "python",
   "pygments_lexer": "ipython3",
   "version": "3.9.15"
  },
  "toc-autonumbering": true,
  "vscode": {
   "interpreter": {
    "hash": "47ef90cdf3004d3f859f1fb202523c65c07ba7c22eefd261b181f4744e2d0403"
   }
  }
 },
 "nbformat": 4,
 "nbformat_minor": 4
}

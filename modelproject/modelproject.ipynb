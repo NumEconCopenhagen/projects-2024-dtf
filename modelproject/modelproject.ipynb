{
 "cells": [
  {
   "cell_type": "markdown",
   "metadata": {},
   "source": [
    "# Solow model with human capital"
   ]
  },
  {
   "cell_type": "markdown",
   "metadata": {},
   "source": [
    "Imports and set magics:"
   ]
  },
  {
   "cell_type": "code",
   "execution_count": 165,
   "metadata": {},
   "outputs": [
    {
     "name": "stdout",
     "output_type": "stream",
     "text": [
      "The autoreload extension is already loaded. To reload it, use:\n",
      "  %reload_ext autoreload\n"
     ]
    }
   ],
   "source": [
    "# Imports required to read the code\n",
    "import numpy as np\n",
    "from scipy import optimize\n",
    "import sympy as sm\n",
    "from sympy import *\n",
    "import random\n",
    "\n",
    "# Imports required to plot\n",
    "import ipywidgets as widgets\n",
    "import matplotlib.pyplot as plt\n",
    "\n",
    "# Autoreload modules when code is run\n",
    "%load_ext autoreload\n",
    "%autoreload 2\n",
    "\n",
    "# Local modules\n",
    "import modelproject as mp"
   ]
  },
  {
   "cell_type": "markdown",
   "metadata": {},
   "source": [
    "# Description of the Solow model with human capital"
   ]
  },
  {
   "cell_type": "markdown",
   "metadata": {},
   "source": [
    "The Solow model with human capital contains the following variables:\n",
    "1. $K_t$ is physical capital\n",
    "2. $H_t$ is human capital\n",
    "3. $L_t$ is labor (growing with a constant rate of $n$)\n",
    "4. $A_t$ is technology (growing with a constant rate of $g$)\n",
    "5. $Y_t = F(K_t,H_t,A_tL_t)$ is GDP\n",
    "6. $s_K$ is the savings rate for physical capital\n",
    "7. $s_H$ is the savings rate for human capital\n",
    "\n",
    "The Solow model with human capital is defined by the following equations:\n",
    "\n",
    "The Cobb-Douglas production function:\n",
    "$$ Y_{t} = F(K_{t},H_{t},A_{t}L_{t})=K_{t}^{\\alpha}H_{t}^{\\phi}(A_{t}L_{t})^{1-\\alpha-\\phi} $$\n",
    "  where\n",
    "  $$ 0<\\alpha<1$$ \n",
    "  $$0<\\phi<1$$\n",
    "  $$\\alpha+\\phi<1  $$\n",
    "with growth in labor and technology given by:\n",
    "$$ L_{t+1}=(1+n)L_{t}$$\n",
    "$$ A_{t+1}=(1+g)A_{t}$$\n",
    "\n",
    "\n",
    "Saving of human and physical capital as a constant fraction of GDP:\n",
    "$$ S_t = (s_{K}+s_{H})Y_t $$\n",
    "  where\n",
    "  $$ s_{K}+s_{H} <1 $$\n",
    "\n",
    "Capital accumulation for physical capital:\n",
    "$$ K_{t+1} = s_{K}Y_{t}+(1-\\delta)K_{t}$$\n",
    "\n",
    "Capital accumulation for human capital:\n",
    "$$ H_{t+1} = s_{H}Y_{t}+(1-\\delta)H_{t}$$\n",
    "\n",
    "Technological adjusted variables are given by:\n",
    "$$\\tilde{k}_t = \\frac{K_t}{A_{t}L_{t}}$$\n",
    "$$\\tilde{h}_t = \\frac{H_t}{A_{t}L_{t}}$$\n",
    "$$\\tilde{y}_t = \\frac{Y_t}{A_{t}L_{t}} = \\frac{K_{t}^{\\alpha}H_{t}^{\\phi}(A_{t}L_{t})^{1-\\alpha-\\phi}}{A_{t}L_{t}} = \\tilde{k}_t^\\alpha \\tilde{h}_t^\\phi$$\n",
    "which implies that the productions function has constant return to scale.\n",
    "\n",
    "The transition equation for physical capital:\n",
    "$$\\tilde{k}_{t+1}=\\frac{1}{(1+n)(1+g)}[s_{K}\\tilde{k}_t^\\alpha \\tilde{h}_t^\\phi+(1-\\delta)\\tilde{k}_t]$$\n",
    "\n",
    "The transition equation for human capital:\n",
    "$$\\tilde{h}_{t+1}=\\frac{1}{(1+n)(1+g)}[s_{H}\\tilde{k}_t^\\alpha \\tilde{h}_t^\\phi+(1-\\delta)\\tilde{h}_t]$$"
   ]
  },
  {
   "cell_type": "markdown",
   "metadata": {},
   "source": [
    "## Analytical solution"
   ]
  },
  {
   "cell_type": "markdown",
   "metadata": {},
   "source": [
    "I define the the variables using Sympy:"
   ]
  },
  {
   "cell_type": "code",
   "execution_count": 166,
   "metadata": {},
   "outputs": [],
   "source": [
    "k = sm.symbols('k')\n",
    "h = sm.symbols('h')\n",
    "alpha = sm.symbols('alpha')\n",
    "phi = sm.symbols('phi')\n",
    "delta = sm.symbols('delta')\n",
    "s_K = sm.symbols('s_K')\n",
    "s_H = sm.symbols('s_H')\n",
    "g = sm.symbols('g')\n",
    "n = sm.symbols('n')"
   ]
  },
  {
   "cell_type": "markdown",
   "metadata": {},
   "source": [
    "Set up transition equation for physical capital and solve:"
   ]
  },
  {
   "cell_type": "code",
   "execution_count": 167,
   "metadata": {},
   "outputs": [
    {
     "data": {
      "text/latex": [
       "$\\displaystyle \\left(\\frac{h^{- \\phi} \\left(\\delta + g n + g + n\\right)}{s_{K}}\\right)^{\\frac{1}{\\alpha - 1}}$"
      ],
      "text/plain": [
       "((delta + g*n + g + n)/(h**phi*s_K))**(1/(alpha - 1))"
      ]
     },
     "execution_count": 167,
     "metadata": {},
     "output_type": "execute_result"
    }
   ],
   "source": [
    "# Define f(k*h*)\n",
    "f = k**alpha*h**phi\n",
    "\n",
    "# Define steady state for physical capital \n",
    "ss_K = sm.Eq(k,(s_K*f+(1-delta)*k)/((1+n)*(1+g)))\n",
    "\n",
    "# Solve steady state for k\n",
    "kss = sm.solve(ss_K,k)[0]\n",
    "\n",
    "# Display solution \n",
    "kss "
   ]
  },
  {
   "cell_type": "markdown",
   "metadata": {},
   "source": [
    "Set up transition equation for human capital and solve:"
   ]
  },
  {
   "cell_type": "code",
   "execution_count": 168,
   "metadata": {},
   "outputs": [
    {
     "data": {
      "text/latex": [
       "$\\displaystyle \\left(\\frac{k^{- \\alpha} \\left(\\delta + g n + g + n\\right)}{s_{H}}\\right)^{\\frac{1}{\\phi - 1}}$"
      ],
      "text/plain": [
       "((delta + g*n + g + n)/(k**alpha*s_H))**(1/(phi - 1))"
      ]
     },
     "execution_count": 168,
     "metadata": {},
     "output_type": "execute_result"
    }
   ],
   "source": [
    "# Define steady state for human capital\n",
    "ss_H = sm.Eq(h,(s_H*f+(1-delta)*h)/((1+n)*(1+g)))\n",
    "\n",
    "# Solve steady state for h\n",
    "hss = sm.solve(ss_H,h)[0]\n",
    "\n",
    "# Display solution \n",
    "hss"
   ]
  },
  {
   "cell_type": "markdown",
   "metadata": {},
   "source": [
    "I turn the Sympy-functions into Python-functions using lambdify to find the steady state values:"
   ]
  },
  {
   "cell_type": "code",
   "execution_count": 169,
   "metadata": {},
   "outputs": [
    {
     "data": {
      "text/latex": [
       "$\\displaystyle 1.90383153923132 h^{0.5}$"
      ],
      "text/plain": [
       "1.90383153923132*h**0.5"
      ]
     },
     "execution_count": 169,
     "metadata": {},
     "output_type": "execute_result"
    }
   ],
   "source": [
    "# ss_k-function with 7 arguments \n",
    "ss_func_k = sm.lambdify((s_K, s_H,g,n,delta,alpha, phi),kss)\n",
    "\n",
    "# Evaluate functions\n",
    "ss_func_k(0.2,0.2,0.02,0.01,0.1,1/3, 1/3)"
   ]
  },
  {
   "cell_type": "code",
   "execution_count": 170,
   "metadata": {},
   "outputs": [
    {
     "data": {
      "text/latex": [
       "$\\displaystyle 1.90383153923132 k^{0.5}$"
      ],
      "text/plain": [
       "1.90383153923132*k**0.5"
      ]
     },
     "execution_count": 170,
     "metadata": {},
     "output_type": "execute_result"
    }
   ],
   "source": [
    "# ss_h-function with 7 arguments \n",
    "ss_func_h = sm.lambdify((s_K, s_H,g,n,delta,alpha, phi),hss)\n",
    "\n",
    "# Evaluate function\n",
    "ss_func_h(0.2,0.2,0.02,0.01,0.1,1/3, 1/3)"
   ]
  },
  {
   "cell_type": "markdown",
   "metadata": {},
   "source": [
    "## Numerical solution"
   ]
  },
  {
   "cell_type": "markdown",
   "metadata": {},
   "source": [
    "### Algorithm\n",
    "\n",
    "The algorithm contains 4 steps:\n",
    "1. Initialize the parameters of the model given by, the saving rate in physical and human capital, $s_K$ and $s_H$, the growth in technology, $g$, the growth in population, $n$, return on physical and human capital, $\\alpha$ and $\\phi$, and the depriciation rate, $\\delta$.\n",
    "\n",
    "2. Set the function for the Solow equations, given by an equation for physical capital and an equation for human capital.\n",
    "    - Set the variables and parameters contained in the equations\n",
    "    - Define the Solow equations for $\\tilde{k}$ and $\\tilde{h}$\n",
    "\n",
    "3. Set up a for-loop and call the solver\n",
    "    - Set initial guess for the values of $\\tilde{k}$ and $\\tilde{h}$\n",
    "    - Create empty lists for the solutions\n",
    "    - Set up a for-loop \n",
    "    - Call the optimize.root solver\n",
    "    - Append the solutions to the lists\n",
    "\n",
    "4. Display the result\n",
    "    - Solve the model for the given parameter values\n",
    "    - Print the solution\n"
   ]
  },
  {
   "cell_type": "code",
   "execution_count": 228,
   "metadata": {},
   "outputs": [],
   "source": [
    "# Step 1: Initialize the baseline parameters \n",
    "s_K = 0.15\n",
    "s_H = 0.10\n",
    "g = 0.02\n",
    "n = 0.01\n",
    "alpha = 1/3\n",
    "phi = 1/3\n",
    "delta = 0.075"
   ]
  },
  {
   "cell_type": "code",
   "execution_count": 229,
   "metadata": {},
   "outputs": [],
   "source": [
    "# Step 2: Set the Solow equations\n",
    "def solow_equations(vars , s_K, s_H, n , g, delta, alpha, phi):\n",
    "\n",
    "    k_tilde , h_tilde = vars\n",
    "\n",
    "    solow_k = (s_K * k_tilde**alpha * h_tilde**phi - (delta + n + g + n*g)*k_tilde)/((1+n)*(1+g))\n",
    "    solow_h = (s_H * k_tilde**alpha * h_tilde**phi - (delta + n + g + n*g)*h_tilde)/((1+n)*(1+g))\n",
    "\n",
    "    return solow_k , solow_h"
   ]
  },
  {
   "cell_type": "code",
   "execution_count": 230,
   "metadata": {},
   "outputs": [],
   "source": [
    "# Step 3: Set up the for-loop and call the solver\n",
    "def ss_solve(fun=solow_equations, x0=None, args=None, method='hybr'):\n",
    "    # Initial guess range for k_tilde and h_tilde\n",
    "    initial_guesses = [(1.0, 1.0), (2.0, 2.0), (3.0, 3.0)] \n",
    "\n",
    "    # Lists to store solutions for k_tilde and h_tilde\n",
    "    k_tilde_solutions = []\n",
    "    h_tilde_solutions = []\n",
    "\n",
    "    # Iterate over initial guesses and solve the Solow equations\n",
    "    for initial_guess in initial_guesses:\n",
    "        solution = optimize.root(solow_equations, initial_guess, args=(s_K, s_H, n, g, delta, alpha, phi), method='hybr')\n",
    "    \n",
    "        if solution.success:\n",
    "            k_tilde_solution, h_tilde_solution = solution.x\n",
    "            k_tilde_solutions.append(k_tilde_solution)\n",
    "            h_tilde_solutions.append(h_tilde_solution)\n",
    "        else:\n",
    "            print(\"Optimization failed for initial guess:\", initial_guess)\n",
    "    \n",
    "    return k_tilde_solutions , h_tilde_solutions\n",
    "\n"
   ]
  },
  {
   "cell_type": "code",
   "execution_count": 231,
   "metadata": {},
   "outputs": [
    {
     "name": "stdout",
     "output_type": "stream",
     "text": [
      "Solution 1 (k_tilde, h_tilde): (1.9325702897630859, 1.2883801931753904)\n",
      "Solution 2 (k_tilde, h_tilde): (1.9325702897630959, 1.2883801931753975)\n",
      "Solution 3 (k_tilde, h_tilde): (1.9325702897630987, 1.288380193175399)\n"
     ]
    }
   ],
   "source": [
    "# Step 4: Display solution:\n",
    "\n",
    "# Solve the model for given parameter values using the scipy.optimize.root\n",
    "k_tilde_solutions, h_tilde_solutions = ss_solve(fun=solow_equations, x0 = initial_guesses, args =(s_K, s_H, n, g, delta, alpha, phi), method='hybr' )\n",
    "\n",
    "solutions = zip(k_tilde_solutions,h_tilde_solutions)\n",
    "\n",
    "# Print solutions\n",
    "for i, solution in enumerate(solutions, start=1):\n",
    "    print(f\"Solution {i} (k_tilde, h_tilde):\", solution)"
   ]
  },
  {
   "cell_type": "markdown",
   "metadata": {},
   "source": [
    "# Further analysis"
   ]
  },
  {
   "cell_type": "markdown",
   "metadata": {},
   "source": [
    "### Plot the convergence"
   ]
  },
  {
   "cell_type": "code",
   "execution_count": 232,
   "metadata": {},
   "outputs": [],
   "source": [
    "# Define the null-clines \n",
    "def null_k(k_tilde, alpha, phi, delta, g, n, s_K):\n",
    "    return (k_tilde**(1 - alpha)*(delta + g*n + g + n)/s_K)**(1/phi)\n",
    "\n",
    "def null_h(k_tilde, alpha, phi, delta, g, n, s_H):\n",
    "    return ((delta + g*n + g + n)/(k_tilde**alpha*s_H))**(1/(phi - 1))"
   ]
  },
  {
   "cell_type": "code",
   "execution_count": 233,
   "metadata": {},
   "outputs": [
    {
     "data": {
      "image/png": "[encoded data removed]",
      "text/plain": [
       "<Figure size 1000x600 with 1 Axes>"
      ]
     },
     "metadata": {},
     "output_type": "display_data"
    }
   ],
   "source": [
    "# Define the range of k_tilde values\n",
    "k_tilde_values = np.linspace(0.01, 5, 100)\n",
    "\n",
    "# Calculate null-clines for given parameters values\n",
    "k_nullcline = null_k(k_tilde_values, alpha, phi, delta, g, n, s_K)\n",
    "h_nullcline = null_h(k_tilde_values, alpha, phi, delta, g, n, s_H)\n",
    "\n",
    "# Plot the phase diagram\n",
    "plt.figure(figsize=(10, 6))\n",
    "plt.plot(k_tilde_values, k_nullcline, label='k nullcline', color='blue', zorder=1)\n",
    "plt.plot(k_tilde_values, h_nullcline, label='h nullcline', color='red', zorder=2)\n",
    "plt.scatter(1.9325702897630954, 1.288380193175397, color='green', label='Intersection Point', zorder=3)\n",
    "plt.xlabel('k_tilde')\n",
    "plt.ylabel('h_tilde')\n",
    "plt.title('Phase Diagram')\n",
    "plt.legend()\n",
    "plt.grid(True)\n",
    "plt.show()"
   ]
  },
  {
   "cell_type": "markdown",
   "metadata": {},
   "source": [
    "### Shock to the model"
   ]
  },
  {
   "cell_type": "markdown",
   "metadata": {},
   "source": [
    "I analyse how an increase in savings rate in human capital of 20%, corresponding to a new value of 0.12, affects the phase diagram."
   ]
  },
  {
   "cell_type": "code",
   "execution_count": 234,
   "metadata": {},
   "outputs": [
    {
     "name": "stdout",
     "output_type": "stream",
     "text": [
      "Solution 1 (k_tilde, h_tilde): (2.319084347715707, 1.855267478172566)\n",
      "Solution 2 (k_tilde, h_tilde): (2.3190843477157146, 1.8552674781725718)\n",
      "Solution 3 (k_tilde, h_tilde): (2.319084347715714, 1.855267478172571)\n"
     ]
    }
   ],
   "source": [
    "#Define the increase in s_H:\n",
    "s_H = 0.12\n",
    "\n",
    "# Solve the model for given parameter values using the scipy.optimize.root\n",
    "k_tilde_solutions, h_tilde_solutions = ss_solve(fun=solow_equations, x0 = initial_guesses, args =(s_K, s_H, n, g, delta, alpha, phi), method='hybr' )\n",
    "\n",
    "solutions = zip(k_tilde_solutions,h_tilde_solutions)\n",
    "\n",
    "# Print solutions\n",
    "for i, solution in enumerate(solutions, start=1):\n",
    "    print(f\"Solution {i} (k_tilde, h_tilde):\", solution)"
   ]
  },
  {
   "cell_type": "code",
   "execution_count": 237,
   "metadata": {},
   "outputs": [
    {
     "data": {
      "image/png": "[encoded data removed]",
      "text/plain": [
       "<Figure size 1000x600 with 1 Axes>"
      ]
     },
     "metadata": {},
     "output_type": "display_data"
    }
   ],
   "source": [
    "# Define the range of k_tilde values\n",
    "k_tilde_values = np.linspace(0.01, 5, 100)\n",
    "\n",
    "# Calculate null-clines for given parameters values\n",
    "k_nullcline = null_k(k_tilde_values, alpha, phi, delta, g, n, s_K)\n",
    "h_nullcline = null_h(k_tilde_values, alpha, phi, delta, g, n, 0.10)\n",
    "h_nullcline_new = null_h(k_tilde_values, alpha, phi, delta, g, n, 0.12)\n",
    "\n",
    "# Plot the phase diagram\n",
    "plt.figure(figsize=(10, 6))\n",
    "plt.plot(k_tilde_values, k_nullcline, label='k nullcline', color='blue', zorder=1)\n",
    "plt.plot(k_tilde_values, h_nullcline, label='h nullcline', color='red', zorder=2)\n",
    "plt.plot(k_tilde_values, h_nullcline_new, label='h nullcline_new', color='green', zorder=3)\n",
    "plt.scatter(1.9325702897630954, 1.288380193175397, color='orange', label='Intersection Point', zorder=4)\n",
    "plt.scatter(2.319084347715714, 1.855267478172571, color='purple', label='Intersection Point New', zorder=5)\n",
    "plt.xlabel('k_tilde')\n",
    "plt.ylabel('h_tilde')\n",
    "plt.title('Phase Diagram')\n",
    "plt.legend()\n",
    "plt.grid(True)\n",
    "plt.show()"
   ]
  },
  {
   "cell_type": "markdown",
   "metadata": {},
   "source": [
    "An increase in the savings rate of human capital will increase human capital. When human capital increase the workers become more efficient, which will lead to an increase in GDP. \n"
   ]
  },
  {
   "cell_type": "markdown",
   "metadata": {},
   "source": [
    "### Transition to steady state given different initial values of $k_0$"
   ]
  },
  {
   "cell_type": "code",
   "execution_count": 207,
   "metadata": {},
   "outputs": [],
   "source": [
    "def simulate_growth_paths(s_H, n, g, delta, alpha, varphi, s_K, T=100):\n",
    "\n",
    "    # Set values for s_H_0 and s_H_1:\n",
    "    s_H_1 = 0.0001\n",
    "\n",
    "    # Initialize arrays to store the variables\n",
    "    L = np.zeros(T)\n",
    "    A = np.zeros(T)\n",
    "    K = np.zeros(T)\n",
    "    H = np.zeros(T)\n",
    "    Y = np.zeros(T)\n",
    "    k = np.zeros(T)\n",
    "    h = np.zeros(T)\n",
    "    y = np.zeros(T)\n",
    "\n",
    "    # Set initial values\n",
    "    L[0] = 1\n",
    "    A[0] = 1\n",
    "    K[0] = 1\n",
    "    H[0] = 1\n",
    "    Y[0] = (K[0]**alpha) * (H[0]**varphi) * (A[0]*L[0])**(1-alpha-varphi)\n",
    "\n",
    "    k[0] = K[0] / (A[0]*L[0])\n",
    "    h[0] = H[0] / (A[0]*L[0])\n",
    "    y[0] = Y[0] / (A[0]*L[0])\n",
    "\n",
    "    # Create a simulation\n",
    "    for t in range(1, T):\n",
    "        L[t] = (1 + n) * L[t-1]\n",
    "        A[t] = (1 + g) * A[t-1]\n",
    "        K[t] = s_K * Y[t-1] + (1 - delta) * K[t-1]\n",
    "        H[t] = s_H * Y[t-1] + (1 - delta) * H[t-1]\n",
    "        Y[t] = (K[t]**alpha) * (H[t]**varphi) * (A[t]*L[t])**(1-alpha-varphi)\n",
    "        k[t] = K[t] / (A[t]*L[t])\n",
    "        h[t] = H[t] / (A[t]*L[t])\n",
    "        y[t] = Y[t] / (A[t]*L[t])\n",
    "\n",
    "    return k, h, y"
   ]
  },
  {
   "cell_type": "code",
   "execution_count": 209,
   "metadata": {},
   "outputs": [
    {
     "data": {
      "image/png": "[encoded data removed]",
      "text/plain": [
       "<Figure size 1600x500 with 1 Axes>"
      ]
     },
     "metadata": {},
     "output_type": "display_data"
    }
   ],
   "source": [
    "# Call the function simulate_growth_paths with parameters, set shock at t to savings in human capital to XYZ percentage points\n",
    "k, h, y = simulate_growth_paths(s_K, s_H, n, g, delta, alpha, phi)\n",
    "\n",
    "# Plot results\n",
    "# Plot the implied functions\n",
    "fig, (ax1) = plt.subplots(1, 1, figsize=(16, 5))\n",
    "\n",
    "# Set growth paths\n",
    "ax1.plot(k, label=r'$\\tilde{k}$')\n",
    "ax1.plot(h, label=r'$\\tilde{h}$')\n",
    "ax1.plot(y, label=r'$\\tilde{y}$')\n",
    "\n",
    "# Set title, labels and legend\n",
    "ax1.set_title(r'Figure 3: Growth paths of $\\tilde{k}$, $\\tilde{h}$, and $\\tilde{y}$')\n",
    "ax1.set_xlabel('Time')\n",
    "ax1.legend(loc='upper left');\n",
    "\n",
    "# Display plot\n",
    "plt.grid(True)\n",
    "plt.show();"
   ]
  },
  {
   "cell_type": "code",
   "execution_count": 238,
   "metadata": {},
   "outputs": [],
   "source": [
    "x0 = np.array([.25, 1.25, 3.25])\n",
    "\n",
    "ts_length = 20\n",
    "xmin, xmax = 0, ts_length\n",
    "ymin, ymax = 0, 3.5\n",
    "\n",
    "def simulate_ts(x0_values, ts_length):\n",
    "\n",
    "    k_star = (s_K * h**phi / delta)**(1/(1-alpha))\n",
    "    fig, ax = plt.subplots(figsize=[11, 5])\n",
    "    ax.set_xlim(xmin, xmax)\n",
    "    ax.set_ylim(ymin, ymax)\n",
    "\n",
    "    ts = np.zeros(ts_length)\n",
    "\n",
    "    # simulate and plot time series\n",
    "    for x_init in x0_values:\n",
    "        ts[0] = x_init\n",
    "        for t in range(1, ts_length):\n",
    "            ts[t] = g(s_K, alpha, delta, phi, ts[t-1])\n",
    "        ax.plot(np.arange(ts_length), ts, '-o', ms=4, alpha=0.6,\n",
    "                label=r'$k_0=%g$' %x_init)\n",
    "    ax.plot(np.arange(ts_length), np.full(ts_length,k_star),\n",
    "            alpha=0.6, color='red', label=r'$k^*$')\n",
    "    ax.legend(fontsize=10)\n",
    "\n",
    "    ax.set_xlabel(r'$t$', fontsize=14)\n",
    "    ax.set_ylabel(r'$k_t$', fontsize=14)\n",
    "\n",
    "    plt.show()"
   ]
  },
  {
   "cell_type": "markdown",
   "metadata": {},
   "source": [
    "## Extenting the Solow model with human capital to include R&D"
   ]
  },
  {
   "cell_type": "markdown",
   "metadata": {},
   "source": [
    "I extend the Solow model with human capital by adding R&D, shown by having to different types of labor. This implies that the production function and the capital accumulation equations for both physical and human capital are unchanged. "
   ]
  },
  {
   "cell_type": "markdown",
   "metadata": {},
   "source": [
    "The Solow model with human capital and R&D contains the following variables:\n",
    "1. $K_t$ is phisical capital\n",
    "2. $H_t$ is human capital\n",
    "3. $L_{t}$ is labor (growing with a constant rate of $n$)\n",
    "4. $L_{Yt}$ is production labor\n",
    "5. $L_{At}$ is research labor\n",
    "6. $A_t$ is technology (growing with a constant rate of $g$)\n",
    "7. $Y_t = F(K_t,A_tL_t)$ is GDP\n",
    "8. $s_K$ is the savings rate for physical capital\n",
    "9. $s_H$ is the savings rate for human capital\n",
    "10. $s_R$ is the share of the total population who are research labor \n",
    "\n",
    "The Solow model with human capital is defined by the following equations:\n",
    "\n",
    "The Cobb-Douglas production function:\n",
    "$$ Y_{t} = F(K_{t},H_{t},A_{t}L_{Yt})=K_{t}^{\\alpha}H_{t}^{\\phi}(A_{t}L_{Yt})^{1-\\alpha-\\phi} $$\n",
    "  where\n",
    "  $$ 0<\\alpha<1$$ \n",
    "  $$0<\\phi<1$$\n",
    "  $$\\alpha+\\phi<1  $$\n",
    "with growth in the total labor force and technology given by:\n",
    "$$ L_{t+1}=(1+n)L_{t}$$\n",
    "$$ A_{t+1}=\\rho A_{t}^{\\sigma} L_{At}^{\\lambda}+A_{t}$$\n",
    "where\n",
    "$$ \\rho >0 $$\n",
    "$$ \\sigma >0 $$\n",
    "$$ 0=<\\lambda<1 $$\n",
    "\n",
    "The share of research labor is given by:\n",
    "$$ L_{At}=s_{R}L_{t}$$\n",
    "where\n",
    "$$ 0<s_{R}<1$$\n",
    "\n",
    "The total labor force is given by:\n",
    "$$ L_{t}=L_{At}+L_{Yt} $$\n",
    "\n",
    "Saving of human and physical capital as a constant fraction of GDP:\n",
    "$$ S_t = (s_{K}+s_{H})Y_t $$\n",
    "  where\n",
    "  $$ s_{K}+s_{H} <1 $$\n",
    "\n",
    "Capital accumulation for physical capital:\n",
    "$$ K_{t+1} = s_{K}Y_{t}+(1-\\delta)K_{t}$$\n",
    "\n",
    "Capital accumulation for human capital:\n",
    "$$ H_{t+1} = s_{H}Y_{t}+(1-\\delta)H_{t}$$\n",
    "\n",
    "Technological adjusted variables are given by:\n",
    "$$\\tilde{k}_t = \\frac{K_t}{L_{Yt}}$$\n",
    "$$\\tilde{h}_t = \\frac{H_t}{L_{Yt}}$$\n",
    "$$\\tilde{y}_t = \\frac{Y_t}{L_{Yt}} = \\frac{K_{t}^{\\alpha}H_{t}^{\\phi}(A_{t}L_{Yt})^{1-\\alpha-\\phi}}{L_{Yt}} = \\tilde{k}_t^\\alpha \\tilde{h}_t^\\phi A_t^{1-\\alpha-\\phi}$$\n",
    "\n",
    "The transition equation for physical capital:\n",
    "$$\\tilde{k}_{t+1}=\\frac{1}{(1+n)(1+g)}[s_{K}\\tilde{k}_t^\\alpha \\tilde{h}_t^\\phi+(1-\\delta)\\tilde{k}_t]$$\n",
    "\n",
    "The transition equation for human capital:\n",
    "$$\\tilde{h}_{t+1}=\\frac{1}{(1+n)(1+g)}[s_{H}\\tilde{k}_t^\\alpha \\tilde{h}_t^\\phi+(1-\\delta)\\tilde{h}_t]$$"
   ]
  },
  {
   "cell_type": "code",
   "execution_count": null,
   "metadata": {},
   "outputs": [],
   "source": [
    "# Step 1: Initialize the baseline parameters \n",
    "s_K = 0.15\n",
    "s_H = 0.10\n",
    "g = 0.00\n",
    "n = 0.01\n",
    "alpha = 1/3\n",
    "phi = 1/3\n",
    "delta = 0.075\n",
    "rho = 10\n",
    "sigma = 0.9\n",
    "lambd = 0.9\n",
    "s_R = 0.2"
   ]
  },
  {
   "cell_type": "code",
   "execution_count": null,
   "metadata": {},
   "outputs": [],
   "source": [
    "# Step 2: Set the Solow equations\n",
    "def solow_equations_new(vars_new , s_K, s_H, n , g, delta, alpha, phi, rho, sigma, lambd, s_R):\n",
    "\n",
    "    k_tilde , h_tilde = vars_new\n",
    "\n",
    "    solow_k = (s_K * k_tilde**alpha * h_tilde**phi - (delta + n + g + n*g)*k_tilde)/((1+n)*(1+g))\n",
    "    solow_h = (s_H * k_tilde**alpha * h_tilde**phi - (delta + n + g + n*g)*h_tilde)/((1+n)*(1+g))\n",
    "\n",
    "    return solow_k , solow_h"
   ]
  },
  {
   "cell_type": "code",
   "execution_count": null,
   "metadata": {},
   "outputs": [],
   "source": [
    "def solow_equations(vars, s_K, s_H, n, g, delta, alpha, phi, rho, sigma, lambd, s_R):\n",
    "    k_tilde, h_tilde, a_tilde = vars\n",
    "\n",
    "    # Calculate the production function\n",
    "    y_tilde = k_tilde**alpha * h_tilde**phi * a_tilde**(1 - alpha - phi)\n",
    "\n",
    "    # Calculate the investment equations for physical and human capital\n",
    "    inv_k = s_K * y_tilde - (delta + n + g + n * g) * k_tilde\n",
    "    inv_h = s_H * y_tilde - (delta + n + g + n * g) * h_tilde\n",
    "\n",
    "    # Calculate the technology evolution equation\n",
    "    l_at = s_R\n",
    "    a_next_tilde = rho * a_tilde**sigma * l_at**lambd + a_tilde\n",
    "\n",
    "    # Return the equations\n",
    "    return [inv_k / ((1 + n) * (1 + g)), inv_h / ((1 + n) * (1 + g)), a_next_tilde]"
   ]
  },
  {
   "cell_type": "code",
   "execution_count": null,
   "metadata": {},
   "outputs": [],
   "source": [
    "def ss_solve_extended(num_guess=500, bounds=[-1000, 1000], fun=solow_equations, args=None, method='hybr'):\n",
    "    smallest_res = np.inf\n",
    "    ss_k = None\n",
    "    ss_h = None\n",
    "    ss_a = None\n",
    "\n",
    "    random_samples = np.random.uniform(low=bounds[0], high=bounds[1], size=(num_guess, 3))  # Adjusted for 3 variables\n",
    "\n",
    "    for initial_guess in random_samples:\n",
    "        solution = optimize.root(fun=fun, x0=initial_guess, args=args, method=method)\n",
    "\n",
    "        if solution.success:\n",
    "            residual_norm = np.linalg.norm(solution.fun)\n",
    "            if residual_norm < smallest_res:\n",
    "                smallest_res = residual_norm\n",
    "                ss_k, ss_h, ss_a = solution.x\n",
    "\n",
    "    return ss_k, ss_h, ss_a, smallest_res"
   ]
  },
  {
   "cell_type": "code",
   "execution_count": null,
   "metadata": {},
   "outputs": [
    {
     "name": "stdout",
     "output_type": "stream",
     "text": [
      "Steady state values:\n",
      "Capital (K): None\n",
      "Human Capital (H): None\n",
      "Technology (A): None\n",
      "Residual norm: inf\n"
     ]
    },
    {
     "name": "stderr",
     "output_type": "stream",
     "text": [
      "/var/folders/p0/9rvjcpb10lj0jmb95wy937hm0000gn/T/ipykernel_62607/1790428335.py:5: RuntimeWarning: invalid value encountered in double_scalars\n",
      "  y_tilde = k_tilde**alpha * h_tilde**phi * a_tilde**(1 - alpha - phi)\n",
      "/var/folders/p0/9rvjcpb10lj0jmb95wy937hm0000gn/T/ipykernel_62607/1790428335.py:13: RuntimeWarning: invalid value encountered in double_scalars\n",
      "  a_next_tilde = rho * a_tilde**sigma * l_at**lambd + a_tilde\n"
     ]
    }
   ],
   "source": [
    "# Call ss_solve_extended to find the steady state\n",
    "ss_k, ss_h, ss_a, residual_norm = ss_solve_extended(num_guess=500, bounds=[0.01, 10], fun=solow_equations, args=(s_K, s_H, n, g, delta, alpha, phi, rho, sigma, lambd, s_R))\n",
    "\n",
    "# Print the results\n",
    "print(\"Steady state values:\")\n",
    "print(\"Capital (K):\", ss_k)\n",
    "print(\"Human Capital (H):\", ss_h)\n",
    "print(\"Technology (A):\", ss_a)\n",
    "print(\"Residual norm:\", residual_norm)"
   ]
  },
  {
   "cell_type": "code",
   "execution_count": null,
   "metadata": {},
   "outputs": [],
   "source": [
    "# Step 1: Initialize the baseline parameters \n",
    "s_K = 0.15\n",
    "s_H = 0.10\n",
    "g = 0.00\n",
    "n = 0.01\n",
    "alpha = 1/3\n",
    "phi = 1/3\n",
    "lamd = 0.9\n",
    "m = 0.5"
   ]
  },
  {
   "cell_type": "code",
   "execution_count": null,
   "metadata": {},
   "outputs": [],
   "source": [
    "# Step 2: Set the Solow equations\n",
    "def solow_equations_new(vars_new , s_K, s_H, n , g, delta, alpha, phi, lambd, m):\n",
    "\n",
    "    k_tilde , h_tilde = vars_new\n",
    "\n",
    "    solow_k = (s_K * k_tilde**alpha * h_tilde**phi - (delta + n + g + n*g)*k_tilde-(1+m)*k_tilde+lambd*m_tilde)/((1+n)*(1+g)*(1+m))\n",
    "    solow_h = (s_H * k_tilde**alpha * h_tilde**phi - (delta + n + g + n*g)*h_tilde-(1+m)*h_tilde+lambd*m_tilde)/((1+n)*(1+g)*(1+m))\n",
    "\n",
    "    return solow_k , solow_h"
   ]
  },
  {
   "cell_type": "code",
   "execution_count": null,
   "metadata": {},
   "outputs": [],
   "source": [
    "# Step 3: Set up the optimizer to solve\n",
    "def ss_solve(num_guess = 500, bounds=[-1000, 1000], fun=solow_equations, args = None , method='hybr'):\n",
    "\n",
    "        smallest_res = np.inf\n",
    "\n",
    "        random_samples = list(np.random.uniform(low=bounds[0],high=bounds[1], size=num_guess))\n",
    "\n",
    "        for i in range(num_guess):\n",
    "            initial_guess=random.sample(random_samples, 2)\n",
    "\n",
    "            solution = optimize.root(fun = fun, x0=initial_guess, args=args, method=method)\n",
    "\n",
    "            residual_norm = np.linalg.norm(solution.fun)\n",
    "\n",
    "            if residual_norm<smallest_res:\n",
    "                smallest_res=residual_norm\n",
    "                ss_k , ss_h = solution.x\n",
    "        \n",
    "        return ss_k, ss_h, smallest_res"
   ]
  },
  {
   "cell_type": "code",
   "execution_count": null,
   "metadata": {},
   "outputs": [
    {
     "name": "stdout",
     "output_type": "stream",
     "text": [
      "Unexpected exception formatting exception. Falling back to standard exception\n"
     ]
    },
    {
     "name": "stderr",
     "output_type": "stream",
     "text": [
      "Traceback (most recent call last):\n",
      "  File \"/Users/pernille/opt/anaconda3/lib/python3.9/site-packages/IPython/core/interactiveshell.py\", line 3433, in run_code\n",
      "    exec(code_obj, self.user_global_ns, self.user_ns)\n",
      "  File \"/var/folders/p0/9rvjcpb10lj0jmb95wy937hm0000gn/T/ipykernel_62607/968349129.py\", line 2, in <module>\n",
      "    ss_k, ss_h, smallest_res = mp.ss_solve(num_guess=500,\n",
      "  File \"/Users/pernille/Desktop/projects-2024-dtf/modelproject/modelproject.py\", line 37, in ss_solve\n",
      "    solution = optimize.root(fun = fun, x0=initial_guess, args=args, method=method)\n",
      "  File \"/Users/pernille/opt/anaconda3/lib/python3.9/site-packages/scipy/optimize/_root.py\", line 187, in root\n",
      "    sol = _root_hybr(fun, x0, args=args, jac=jac, **options)\n",
      "  File \"/Users/pernille/opt/anaconda3/lib/python3.9/site-packages/scipy/optimize/minpack.py\", line 226, in _root_hybr\n",
      "    shape, dtype = _check_func('fsolve', 'func', func, x0, args, n, (n,))\n",
      "  File \"/Users/pernille/opt/anaconda3/lib/python3.9/site-packages/scipy/optimize/minpack.py\", line 24, in _check_func\n",
      "    res = atleast_1d(thefunc(*((x0[:numinputs],) + args)))\n",
      "TypeError: solow_equations() missing 2 required positional arguments: 'lambd' and 's_R'\n",
      "\n",
      "During handling of the above exception, another exception occurred:\n",
      "\n",
      "Traceback (most recent call last):\n",
      "  File \"/Users/pernille/opt/anaconda3/lib/python3.9/site-packages/IPython/core/interactiveshell.py\", line 2052, in showtraceback\n",
      "    stb = self.InteractiveTB.structured_traceback(\n",
      "  File \"/Users/pernille/opt/anaconda3/lib/python3.9/site-packages/IPython/core/ultratb.py\", line 1118, in structured_traceback\n",
      "    return FormattedTB.structured_traceback(\n",
      "  File \"/Users/pernille/opt/anaconda3/lib/python3.9/site-packages/IPython/core/ultratb.py\", line 1012, in structured_traceback\n",
      "    return VerboseTB.structured_traceback(\n",
      "  File \"/Users/pernille/opt/anaconda3/lib/python3.9/site-packages/IPython/core/ultratb.py\", line 865, in structured_traceback\n",
      "    formatted_exception = self.format_exception_as_a_whole(etype, evalue, etb, number_of_lines_of_context,\n",
      "  File \"/Users/pernille/opt/anaconda3/lib/python3.9/site-packages/IPython/core/ultratb.py\", line 818, in format_exception_as_a_whole\n",
      "    frames.append(self.format_record(r))\n",
      "  File \"/Users/pernille/opt/anaconda3/lib/python3.9/site-packages/IPython/core/ultratb.py\", line 736, in format_record\n",
      "    result += ''.join(_format_traceback_lines(frame_info.lines, Colors, self.has_colors, lvals))\n",
      "  File \"/Users/pernille/opt/anaconda3/lib/python3.9/site-packages/stack_data/utils.py\", line 145, in cached_property_wrapper\n",
      "    value = obj.__dict__[self.func.__name__] = self.func(obj)\n",
      "  File \"/Users/pernille/opt/anaconda3/lib/python3.9/site-packages/stack_data/core.py\", line 698, in lines\n",
      "    pieces = self.included_pieces\n",
      "  File \"/Users/pernille/opt/anaconda3/lib/python3.9/site-packages/stack_data/utils.py\", line 145, in cached_property_wrapper\n",
      "    value = obj.__dict__[self.func.__name__] = self.func(obj)\n",
      "  File \"/Users/pernille/opt/anaconda3/lib/python3.9/site-packages/stack_data/core.py\", line 649, in included_pieces\n",
      "    pos = scope_pieces.index(self.executing_piece)\n",
      "  File \"/Users/pernille/opt/anaconda3/lib/python3.9/site-packages/stack_data/utils.py\", line 145, in cached_property_wrapper\n",
      "    value = obj.__dict__[self.func.__name__] = self.func(obj)\n",
      "  File \"/Users/pernille/opt/anaconda3/lib/python3.9/site-packages/stack_data/core.py\", line 628, in executing_piece\n",
      "    return only(\n",
      "  File \"/Users/pernille/opt/anaconda3/lib/python3.9/site-packages/executing/executing.py\", line 164, in only\n",
      "    raise NotOneValueFound('Expected one value, found 0')\n",
      "executing.executing.NotOneValueFound: Expected one value, found 0\n"
     ]
    }
   ],
   "source": [
    "# Solve the model for given parameters values:\n",
    "ss_k, ss_h, smallest_res = mp.ss_solve(num_guess=500,\n",
    "            bounds = [-1000, 1000],\n",
    "            fun = solow_equations, \n",
    "            args = (s_K, s_H, n, g, delta, alpha, phi, lambd, m), \n",
    "            method = 'hybr')\n",
    "\n",
    "# Print steady state values for k_tilde and h_tilde:\n",
    "print(\"Steady state values:\")\n",
    "print(\"k_tilde:\", ss_k)\n",
    "print(\"h_tilde:\", ss_h)\n",
    "\n",
    "# Calcute the steady state for y and print:\n",
    "ss_y = ss_k**alpha*ss_h**phi\n",
    "print(\"y_tilde:\", ss_y)"
   ]
  },
  {
   "cell_type": "markdown",
   "metadata": {},
   "source": [
    "# Conclusion"
   ]
  },
  {
   "cell_type": "markdown",
   "metadata": {},
   "source": [
    "I have found the solution to the steady state for the Solow model with human capital and displayed the transition.\n",
    "I have analyzed what happens, given a shock to one of the parameters of the model and displayed the new transition into steady staete.\n",
    "\n",
    "I have extended the model to contain two types of labor, by adding research and development to the model. R&D implies that the growth in  technology depends on the R&D-labor, and hence the GDP, physical and human capital can no longer be adjusted for the technological development. "
   ]
  }
 ],
 "metadata": {
  "kernelspec": {
   "display_name": "base",
   "language": "python",
   "name": "python3"
  },
  "language_info": {
   "codemirror_mode": {
    "name": "ipython",
    "version": 3
   },
   "file_extension": ".py",
   "mimetype": "text/x-python",
   "name": "python",
   "nbconvert_exporter": "python",
   "pygments_lexer": "ipython3",
   "version": "3.9.15"
  },
  "toc-autonumbering": true,
  "vscode": {
   "interpreter": {
    "hash": "47ef90cdf3004d3f859f1fb202523c65c07ba7c22eefd261b181f4744e2d0403"
   }
  }
 },
 "nbformat": 4,
 "nbformat_minor": 4
}

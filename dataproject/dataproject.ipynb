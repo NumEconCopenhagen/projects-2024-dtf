{
 "cells": [
  {
   "cell_type": "markdown",
   "metadata": {},
   "source": [
    "# DATA PROJECT - INFLATION AND ECOLOGICAL GOODS"
   ]
  },
  {
   "cell_type": "markdown",
   "metadata": {},
   "source": [
    "### I explore the effect of inflation on the quantity sold of ecological goods in Denmark: Does people buy less ecological goods when inflation is high?"
   ]
  },
  {
   "cell_type": "markdown",
   "metadata": {},
   "source": [
    "I examine the potential connection between the inflation and the quantity sold of ecological goods in Denmark, considering goods of food as necessary goods.To conduct the analysis, I use data from Statistics Denmark for the growth in inflation in a ten year period between 2013 to 2022. I use the API for Statistics Denmark to download the data from their website.\n",
    "\n",
    "I calculate the growth in the quantity sold of ecological goods. I then examine the data by plotting the inflation between 2013 and 2022 in one plot and plotting the quantity sold of selected ecological goods in the same period in another plot. \n",
    "I then merge the datasets to compare the growth the quantity sold of ecological goods to the growth in inflation.\n",
    "The plots does not show any correlation between the growth in inflation and the growth in ecological goods sold.\n"
   ]
  },
  {
   "cell_type": "markdown",
   "metadata": {},
   "source": [
    "I import the packages needed to run the notebook, run the autoreload and install the API for downloading data from Statistics Denmark:"
   ]
  },
  {
   "cell_type": "code",
   "execution_count": 21,
   "metadata": {},
   "outputs": [
    {
     "name": "stdout",
     "output_type": "stream",
     "text": [
      "The autoreload extension is already loaded. To reload it, use:\n",
      "  %reload_ext autoreload\n"
     ]
    }
   ],
   "source": [
    "# Packages needed to run the notebook\n",
    "import pandas as pd\n",
    "import numpy as np\n",
    "\n",
    "# Packages needed for the plots\n",
    "import matplotlib.pyplot as plt\n",
    "import ipywidgets as widgets\n",
    "import plotly.graph_objs as go\n",
    "from plotly.subplots import make_subplots\n",
    "import seaborn as sns\n",
    "from ipywidgets import interact, Dropdown\n",
    "\n",
    "# Autoreload modules when code is run\n",
    "%load_ext autoreload\n",
    "%autoreload 2\n",
    "\n",
    "# The DST API wrapper. Uncomment the first line to install the DST API, if you do not have it installed already\n",
    "# %pip install git+https://github.com/alemartinello/dstapi\n",
    "from dstapi import DstApi # install with `pip install git+https://github.com/alemartinello/dstapi`"
   ]
  },
  {
   "cell_type": "markdown",
   "metadata": {},
   "source": [
    "# Read and clean data"
   ]
  },
  {
   "cell_type": "markdown",
   "metadata": {},
   "source": [
    "I import data on inflation from Statistics Denmark using the API. I use the table PRIS9."
   ]
  },
  {
   "cell_type": "code",
   "execution_count": 3,
   "metadata": {},
   "outputs": [
    {
     "name": "stdout",
     "output_type": "stream",
     "text": [
      "Table PRIS9: Consumer price index, annual rate of change by type and time\n",
      "Last update: 2024-01-10T08:00:00\n"
     ]
    },
    {
     "data": {
      "text/html": [
       "<div>\n",
       "<style scoped>\n",
       "    .dataframe tbody tr th:only-of-type {\n",
       "        vertical-align: middle;\n",
       "    }\n",
       "\n",
       "    .dataframe tbody tr th {\n",
       "        vertical-align: top;\n",
       "    }\n",
       "\n",
       "    .dataframe thead th {\n",
       "        text-align: right;\n",
       "    }\n",
       "</style>\n",
       "<table border=\"1\" class=\"dataframe\">\n",
       "  <thead>\n",
       "    <tr style=\"text-align: right;\">\n",
       "      <th></th>\n",
       "      <th>variable name</th>\n",
       "      <th># values</th>\n",
       "      <th>First value</th>\n",
       "      <th>First value label</th>\n",
       "      <th>Last value</th>\n",
       "      <th>Last value label</th>\n",
       "      <th>Time variable</th>\n",
       "    </tr>\n",
       "  </thead>\n",
       "  <tbody>\n",
       "    <tr>\n",
       "      <th>0</th>\n",
       "      <td>TYPE</td>\n",
       "      <td>1</td>\n",
       "      <td>STIG</td>\n",
       "      <td>Annual rate of change</td>\n",
       "      <td>STIG</td>\n",
       "      <td>Annual rate of change</td>\n",
       "      <td>False</td>\n",
       "    </tr>\n",
       "    <tr>\n",
       "      <th>1</th>\n",
       "      <td>Tid</td>\n",
       "      <td>124</td>\n",
       "      <td>1900</td>\n",
       "      <td>1900</td>\n",
       "      <td>2023</td>\n",
       "      <td>2023</td>\n",
       "      <td>True</td>\n",
       "    </tr>\n",
       "  </tbody>\n",
       "</table>\n",
       "</div>"
      ],
      "text/plain": [
       "  variable name  # values First value      First value label Last value  \\\n",
       "0          TYPE         1        STIG  Annual rate of change       STIG   \n",
       "1           Tid       124        1900                   1900       2023   \n",
       "\n",
       "        Last value label  Time variable  \n",
       "0  Annual rate of change          False  \n",
       "1                   2023           True  "
      ]
     },
     "metadata": {},
     "output_type": "display_data"
    }
   ],
   "source": [
    "# Import table PRIS9 from Statistics Denmark\n",
    "inf = DstApi('PRIS9') \n",
    "\n",
    "# Overview the data in the table\n",
    "tabsum = inf.tablesummary(language='en')\n",
    "display(tabsum)"
   ]
  },
  {
   "cell_type": "markdown",
   "metadata": {},
   "source": [
    "The table show that the table have the annual growth rate of inflation  in the period from 1900 to 2023. "
   ]
  },
  {
   "cell_type": "code",
   "execution_count": 4,
   "metadata": {},
   "outputs": [
    {
     "data": {
      "text/plain": [
       "{'table': 'pris9',\n",
       " 'format': 'BULK',\n",
       " 'lang': 'en',\n",
       " 'variables': [{'code': 'TYPE', 'values': ['*']},\n",
       "  {'code': 'Tid', 'values': ['*']}]}"
      ]
     },
     "execution_count": 4,
     "metadata": {},
     "output_type": "execute_result"
    }
   ],
   "source": [
    "# The _define_base_params -method gives a nice template - default is to select all avaiable data\n",
    "params = inf._define_base_params(language='en')\n",
    "params"
   ]
  },
  {
   "cell_type": "code",
   "execution_count": 5,
   "metadata": {},
   "outputs": [
    {
     "data": {
      "text/html": [
       "<div>\n",
       "<style scoped>\n",
       "    .dataframe tbody tr th:only-of-type {\n",
       "        vertical-align: middle;\n",
       "    }\n",
       "\n",
       "    .dataframe tbody tr th {\n",
       "        vertical-align: top;\n",
       "    }\n",
       "\n",
       "    .dataframe thead th {\n",
       "        text-align: right;\n",
       "    }\n",
       "</style>\n",
       "<table border=\"1\" class=\"dataframe\">\n",
       "  <thead>\n",
       "    <tr style=\"text-align: right;\">\n",
       "      <th></th>\n",
       "      <th>Inflation</th>\n",
       "    </tr>\n",
       "    <tr>\n",
       "      <th>TID</th>\n",
       "      <th></th>\n",
       "    </tr>\n",
       "  </thead>\n",
       "  <tbody>\n",
       "    <tr>\n",
       "      <th>2005</th>\n",
       "      <td>1.8</td>\n",
       "    </tr>\n",
       "    <tr>\n",
       "      <th>2006</th>\n",
       "      <td>1.9</td>\n",
       "    </tr>\n",
       "    <tr>\n",
       "      <th>2007</th>\n",
       "      <td>1.7</td>\n",
       "    </tr>\n",
       "    <tr>\n",
       "      <th>2008</th>\n",
       "      <td>3.4</td>\n",
       "    </tr>\n",
       "    <tr>\n",
       "      <th>2009</th>\n",
       "      <td>1.3</td>\n",
       "    </tr>\n",
       "    <tr>\n",
       "      <th>2010</th>\n",
       "      <td>2.3</td>\n",
       "    </tr>\n",
       "    <tr>\n",
       "      <th>2011</th>\n",
       "      <td>2.8</td>\n",
       "    </tr>\n",
       "    <tr>\n",
       "      <th>2012</th>\n",
       "      <td>2.4</td>\n",
       "    </tr>\n",
       "    <tr>\n",
       "      <th>2013</th>\n",
       "      <td>0.8</td>\n",
       "    </tr>\n",
       "    <tr>\n",
       "      <th>2014</th>\n",
       "      <td>0.6</td>\n",
       "    </tr>\n",
       "  </tbody>\n",
       "</table>\n",
       "</div>"
      ],
      "text/plain": [
       "      Inflation\n",
       "TID            \n",
       "2005        1.8\n",
       "2006        1.9\n",
       "2007        1.7\n",
       "2008        3.4\n",
       "2009        1.3\n",
       "2010        2.3\n",
       "2011        2.8\n",
       "2012        2.4\n",
       "2013        0.8\n",
       "2014        0.6"
      ]
     },
     "execution_count": 5,
     "metadata": {},
     "output_type": "execute_result"
    }
   ],
   "source": [
    "# Select the years from 2005 and to 2022\n",
    "variables = params['variables'] \n",
    "variables[1]['values'] =['>2004<=2022']\n",
    "\n",
    "# Load the data from Statistics Denmark using the API and the params dictionary specifications \n",
    "inf_api = inf.get_data(params=params)\n",
    "\n",
    "# Delete the column TYPE and rename the column INDHOLD to Inflation\n",
    "inf_api.drop(columns=['TYPE'], inplace=True)\n",
    "inf_api.rename(columns={'INDHOLD' : 'Inflation'} , inplace=True)\n",
    "\n",
    "# Transform both the Inflation and the TID column to numeric instead of strings\n",
    "inf_api['Inflation'] = pd.to_numeric(inf_api['Inflation'])\n",
    "inf_api['TID'] = pd.to_numeric(inf_api['TID'])\n",
    "\n",
    "# Set the TID column to be the index\n",
    "inf_api.set_index('TID', inplace=True)\n",
    "inf_api.index = pd.to_numeric(inf_api.index)\n",
    "\n",
    "# Display the first 10 rows in the cleaned dataset\n",
    "inf_api.head(10)\n"
   ]
  },
  {
   "cell_type": "code",
   "execution_count": 6,
   "metadata": {},
   "outputs": [
    {
     "data": {
      "text/plain": [
       "numpy.int64"
      ]
     },
     "execution_count": 6,
     "metadata": {},
     "output_type": "execute_result"
    }
   ],
   "source": [
    "type(inf_api.index[0])"
   ]
  },
  {
   "cell_type": "markdown",
   "metadata": {},
   "source": [
    "Import data on ecological goods from Statistics Denmark using the API. I use the table OEK3."
   ]
  },
  {
   "cell_type": "code",
   "execution_count": 7,
   "metadata": {},
   "outputs": [
    {
     "name": "stdout",
     "output_type": "stream",
     "text": [
      "Table OEKO3: Turnover of organic foods in retail shops by commodities, unit and time\n",
      "Last update: 2024-04-26T08:00:00\n"
     ]
    },
    {
     "data": {
      "text/html": [
       "<div>\n",
       "<style scoped>\n",
       "    .dataframe tbody tr th:only-of-type {\n",
       "        vertical-align: middle;\n",
       "    }\n",
       "\n",
       "    .dataframe tbody tr th {\n",
       "        vertical-align: top;\n",
       "    }\n",
       "\n",
       "    .dataframe thead th {\n",
       "        text-align: right;\n",
       "    }\n",
       "</style>\n",
       "<table border=\"1\" class=\"dataframe\">\n",
       "  <thead>\n",
       "    <tr style=\"text-align: right;\">\n",
       "      <th></th>\n",
       "      <th>variable name</th>\n",
       "      <th># values</th>\n",
       "      <th>First value</th>\n",
       "      <th>First value label</th>\n",
       "      <th>Last value</th>\n",
       "      <th>Last value label</th>\n",
       "      <th>Time variable</th>\n",
       "    </tr>\n",
       "  </thead>\n",
       "  <tbody>\n",
       "    <tr>\n",
       "      <th>0</th>\n",
       "      <td>VARE</td>\n",
       "      <td>76</td>\n",
       "      <td>5000</td>\n",
       "      <td>TURN OVER, TOTAL</td>\n",
       "      <td>5200</td>\n",
       "      <td>BEER, TOTAL</td>\n",
       "      <td>False</td>\n",
       "    </tr>\n",
       "    <tr>\n",
       "      <th>1</th>\n",
       "      <td>MÆNGDE4</td>\n",
       "      <td>2</td>\n",
       "      <td>0010</td>\n",
       "      <td>Quantity in tons</td>\n",
       "      <td>0020</td>\n",
       "      <td>Amount in 1.000 DKK</td>\n",
       "      <td>False</td>\n",
       "    </tr>\n",
       "    <tr>\n",
       "      <th>2</th>\n",
       "      <td>Tid</td>\n",
       "      <td>21</td>\n",
       "      <td>2003</td>\n",
       "      <td>2003</td>\n",
       "      <td>2023</td>\n",
       "      <td>2023</td>\n",
       "      <td>True</td>\n",
       "    </tr>\n",
       "  </tbody>\n",
       "</table>\n",
       "</div>"
      ],
      "text/plain": [
       "  variable name  # values First value First value label Last value  \\\n",
       "0          VARE        76        5000  TURN OVER, TOTAL       5200   \n",
       "1       MÆNGDE4         2        0010  Quantity in tons       0020   \n",
       "2           Tid        21        2003              2003       2023   \n",
       "\n",
       "      Last value label  Time variable  \n",
       "0          BEER, TOTAL          False  \n",
       "1  Amount in 1.000 DKK          False  \n",
       "2                 2023           True  "
      ]
     },
     "metadata": {},
     "output_type": "display_data"
    }
   ],
   "source": [
    "# Import the second data set containning the amount of ecological products sold in Denmark over time\n",
    "eco = DstApi('OEKO3') \n",
    "\n",
    "# Overview the data in the table\n",
    "tabsum = eco.tablesummary(language='en')\n",
    "display(tabsum)"
   ]
  },
  {
   "cell_type": "code",
   "execution_count": 8,
   "metadata": {},
   "outputs": [
    {
     "data": {
      "text/plain": [
       "{'table': 'oeko3',\n",
       " 'format': 'BULK',\n",
       " 'lang': 'en',\n",
       " 'variables': [{'code': 'VARE', 'values': ['*']},\n",
       "  {'code': 'MÆNGDE4', 'values': ['*']},\n",
       "  {'code': 'Tid', 'values': ['*']}]}"
      ]
     },
     "execution_count": 8,
     "metadata": {},
     "output_type": "execute_result"
    }
   ],
   "source": [
    "# The _define_base_params -method gives us a nice template - default is to select all avaiable data\n",
    "params_eco = eco._define_base_params(language='en')\n",
    "params_eco"
   ]
  },
  {
   "cell_type": "code",
   "execution_count": 9,
   "metadata": {},
   "outputs": [
    {
     "data": {
      "text/html": [
       "<div>\n",
       "<style scoped>\n",
       "    .dataframe tbody tr th:only-of-type {\n",
       "        vertical-align: middle;\n",
       "    }\n",
       "\n",
       "    .dataframe tbody tr th {\n",
       "        vertical-align: top;\n",
       "    }\n",
       "\n",
       "    .dataframe thead th {\n",
       "        text-align: right;\n",
       "    }\n",
       "</style>\n",
       "<table border=\"1\" class=\"dataframe\">\n",
       "  <thead>\n",
       "    <tr style=\"text-align: right;\">\n",
       "      <th></th>\n",
       "      <th>VARE</th>\n",
       "      <th>INDHOLD</th>\n",
       "    </tr>\n",
       "    <tr>\n",
       "      <th>TID</th>\n",
       "      <th></th>\n",
       "      <th></th>\n",
       "    </tr>\n",
       "  </thead>\n",
       "  <tbody>\n",
       "    <tr>\n",
       "      <th>2004</th>\n",
       "      <td>TURN OVER, TOTAL</td>\n",
       "      <td>154653</td>\n",
       "    </tr>\n",
       "    <tr>\n",
       "      <th>2004</th>\n",
       "      <td>MEAT, SPREADS,OFFAL, TOTAL</td>\n",
       "      <td>2002</td>\n",
       "    </tr>\n",
       "    <tr>\n",
       "      <th>2004</th>\n",
       "      <td>MILK, CHEESE, EGGS, TOTAL</td>\n",
       "      <td>109155</td>\n",
       "    </tr>\n",
       "    <tr>\n",
       "      <th>2004</th>\n",
       "      <td>FRUITS, TOTAL</td>\n",
       "      <td>3658</td>\n",
       "    </tr>\n",
       "    <tr>\n",
       "      <th>2004</th>\n",
       "      <td>VEGETABLES, TOTAL</td>\n",
       "      <td>18043</td>\n",
       "    </tr>\n",
       "    <tr>\n",
       "      <th>2005</th>\n",
       "      <td>TURN OVER, TOTAL</td>\n",
       "      <td>168454</td>\n",
       "    </tr>\n",
       "    <tr>\n",
       "      <th>2005</th>\n",
       "      <td>MEAT, SPREADS,OFFAL, TOTAL</td>\n",
       "      <td>2549</td>\n",
       "    </tr>\n",
       "    <tr>\n",
       "      <th>2005</th>\n",
       "      <td>MILK, CHEESE, EGGS, TOTAL</td>\n",
       "      <td>116949</td>\n",
       "    </tr>\n",
       "    <tr>\n",
       "      <th>2005</th>\n",
       "      <td>FRUITS, TOTAL</td>\n",
       "      <td>4819</td>\n",
       "    </tr>\n",
       "    <tr>\n",
       "      <th>2005</th>\n",
       "      <td>VEGETABLES, TOTAL</td>\n",
       "      <td>21184</td>\n",
       "    </tr>\n",
       "  </tbody>\n",
       "</table>\n",
       "</div>"
      ],
      "text/plain": [
       "                            VARE  INDHOLD\n",
       "TID                                      \n",
       "2004            TURN OVER, TOTAL   154653\n",
       "2004  MEAT, SPREADS,OFFAL, TOTAL     2002\n",
       "2004   MILK, CHEESE, EGGS, TOTAL   109155\n",
       "2004               FRUITS, TOTAL     3658\n",
       "2004           VEGETABLES, TOTAL    18043\n",
       "2005            TURN OVER, TOTAL   168454\n",
       "2005  MEAT, SPREADS,OFFAL, TOTAL     2549\n",
       "2005   MILK, CHEESE, EGGS, TOTAL   116949\n",
       "2005               FRUITS, TOTAL     4819\n",
       "2005           VEGETABLES, TOTAL    21184"
      ]
     },
     "execution_count": 9,
     "metadata": {},
     "output_type": "execute_result"
    }
   ],
   "source": [
    "# Select the variables, and the time period and the quantity sold \n",
    "variables_eco = params_eco['variables'] \n",
    "variables_eco[0]['values'] = ['5000', '5130' , '5105' , '5070' , '5030']\n",
    "variables_eco[1]['values'] = ['0010']\n",
    "variables_eco[2]['values'] =['>2003<=2022']\n",
    "\n",
    "# Load the data from Statistics Denmark using the API and the params_eco dictionary specifications \n",
    "eco_api = eco.get_data(params=params_eco)\n",
    "\n",
    "# Change the column TID to the index column and delete the column MÆNGDE4\n",
    "eco_api['TID'] = pd.to_numeric(eco_api['TID'])\n",
    "eco_api.set_index('TID', inplace=True)\n",
    "eco_api.drop(columns=['MÆNGDE4'], inplace=True)\n",
    "\n",
    "# Display the first 10 rows of the cleaned dataset\n",
    "eco_api.head(10)"
   ]
  },
  {
   "cell_type": "markdown",
   "metadata": {},
   "source": [
    "## Examening the Data"
   ]
  },
  {
   "cell_type": "markdown",
   "metadata": {},
   "source": [
    "I calculate the percentage change in the quantity sold of ecological goods in Denmark in the period between 2005 and 2022"
   ]
  },
  {
   "cell_type": "code",
   "execution_count": 10,
   "metadata": {},
   "outputs": [
    {
     "data": {
      "text/html": [
       "<div>\n",
       "<style scoped>\n",
       "    .dataframe tbody tr th:only-of-type {\n",
       "        vertical-align: middle;\n",
       "    }\n",
       "\n",
       "    .dataframe tbody tr th {\n",
       "        vertical-align: top;\n",
       "    }\n",
       "\n",
       "    .dataframe thead th {\n",
       "        text-align: right;\n",
       "    }\n",
       "</style>\n",
       "<table border=\"1\" class=\"dataframe\">\n",
       "  <thead>\n",
       "    <tr style=\"text-align: right;\">\n",
       "      <th></th>\n",
       "      <th>Total_Turn_Over</th>\n",
       "      <th>Total_Meat</th>\n",
       "      <th>Total_Dairy</th>\n",
       "      <th>Total_Fruits</th>\n",
       "      <th>Total_Vegetables</th>\n",
       "    </tr>\n",
       "    <tr>\n",
       "      <th>TID</th>\n",
       "      <th></th>\n",
       "      <th></th>\n",
       "      <th></th>\n",
       "      <th></th>\n",
       "      <th></th>\n",
       "    </tr>\n",
       "  </thead>\n",
       "  <tbody>\n",
       "    <tr>\n",
       "      <th>2005</th>\n",
       "      <td>8.923849</td>\n",
       "      <td>27.322677</td>\n",
       "      <td>7.140305</td>\n",
       "      <td>31.738655</td>\n",
       "      <td>17.408413</td>\n",
       "    </tr>\n",
       "    <tr>\n",
       "      <th>2006</th>\n",
       "      <td>10.900899</td>\n",
       "      <td>16.869361</td>\n",
       "      <td>10.817536</td>\n",
       "      <td>15.521893</td>\n",
       "      <td>5.074585</td>\n",
       "    </tr>\n",
       "    <tr>\n",
       "      <th>2007</th>\n",
       "      <td>12.751516</td>\n",
       "      <td>11.782477</td>\n",
       "      <td>5.656636</td>\n",
       "      <td>58.200108</td>\n",
       "      <td>18.666607</td>\n",
       "    </tr>\n",
       "    <tr>\n",
       "      <th>2008</th>\n",
       "      <td>10.923903</td>\n",
       "      <td>20.660661</td>\n",
       "      <td>3.757367</td>\n",
       "      <td>9.810378</td>\n",
       "      <td>21.087302</td>\n",
       "    </tr>\n",
       "    <tr>\n",
       "      <th>2009</th>\n",
       "      <td>9.616562</td>\n",
       "      <td>-9.955202</td>\n",
       "      <td>10.037586</td>\n",
       "      <td>31.061938</td>\n",
       "      <td>3.901951</td>\n",
       "    </tr>\n",
       "    <tr>\n",
       "      <th>2010</th>\n",
       "      <td>4.256241</td>\n",
       "      <td>0.138198</td>\n",
       "      <td>-1.450712</td>\n",
       "      <td>15.416174</td>\n",
       "      <td>27.657078</td>\n",
       "    </tr>\n",
       "    <tr>\n",
       "      <th>2011</th>\n",
       "      <td>-0.995435</td>\n",
       "      <td>-0.469224</td>\n",
       "      <td>0.175895</td>\n",
       "      <td>-4.422722</td>\n",
       "      <td>-8.488320</td>\n",
       "    </tr>\n",
       "    <tr>\n",
       "      <th>2012</th>\n",
       "      <td>-8.870068</td>\n",
       "      <td>-2.689961</td>\n",
       "      <td>-10.214462</td>\n",
       "      <td>-9.512230</td>\n",
       "      <td>-6.671475</td>\n",
       "    </tr>\n",
       "    <tr>\n",
       "      <th>2013</th>\n",
       "      <td>2.977851</td>\n",
       "      <td>14.733542</td>\n",
       "      <td>5.630164</td>\n",
       "      <td>-2.173569</td>\n",
       "      <td>-7.846655</td>\n",
       "    </tr>\n",
       "    <tr>\n",
       "      <th>2014</th>\n",
       "      <td>8.495844</td>\n",
       "      <td>21.385991</td>\n",
       "      <td>6.436120</td>\n",
       "      <td>41.956855</td>\n",
       "      <td>12.701788</td>\n",
       "    </tr>\n",
       "    <tr>\n",
       "      <th>2015</th>\n",
       "      <td>10.099085</td>\n",
       "      <td>21.956210</td>\n",
       "      <td>0.390249</td>\n",
       "      <td>49.595902</td>\n",
       "      <td>17.685357</td>\n",
       "    </tr>\n",
       "    <tr>\n",
       "      <th>2016</th>\n",
       "      <td>13.009793</td>\n",
       "      <td>14.228188</td>\n",
       "      <td>4.207639</td>\n",
       "      <td>26.187034</td>\n",
       "      <td>31.448572</td>\n",
       "    </tr>\n",
       "    <tr>\n",
       "      <th>2017</th>\n",
       "      <td>17.243356</td>\n",
       "      <td>13.160987</td>\n",
       "      <td>5.339690</td>\n",
       "      <td>25.076130</td>\n",
       "      <td>45.665842</td>\n",
       "    </tr>\n",
       "    <tr>\n",
       "      <th>2018</th>\n",
       "      <td>11.900481</td>\n",
       "      <td>15.005192</td>\n",
       "      <td>9.204380</td>\n",
       "      <td>16.396683</td>\n",
       "      <td>12.997229</td>\n",
       "    </tr>\n",
       "    <tr>\n",
       "      <th>2019</th>\n",
       "      <td>7.264637</td>\n",
       "      <td>7.483070</td>\n",
       "      <td>4.316428</td>\n",
       "      <td>13.221224</td>\n",
       "      <td>9.473366</td>\n",
       "    </tr>\n",
       "    <tr>\n",
       "      <th>2020</th>\n",
       "      <td>27.371237</td>\n",
       "      <td>15.541321</td>\n",
       "      <td>18.345894</td>\n",
       "      <td>67.408085</td>\n",
       "      <td>26.674802</td>\n",
       "    </tr>\n",
       "    <tr>\n",
       "      <th>2021</th>\n",
       "      <td>-0.886234</td>\n",
       "      <td>-4.680542</td>\n",
       "      <td>-2.606840</td>\n",
       "      <td>1.689211</td>\n",
       "      <td>0.177613</td>\n",
       "    </tr>\n",
       "    <tr>\n",
       "      <th>2022</th>\n",
       "      <td>-8.553329</td>\n",
       "      <td>-15.741800</td>\n",
       "      <td>-12.054082</td>\n",
       "      <td>-6.104139</td>\n",
       "      <td>-6.976989</td>\n",
       "    </tr>\n",
       "  </tbody>\n",
       "</table>\n",
       "</div>"
      ],
      "text/plain": [
       "      Total_Turn_Over  Total_Meat  Total_Dairy  Total_Fruits  Total_Vegetables\n",
       "TID                                                                           \n",
       "2005         8.923849   27.322677     7.140305     31.738655         17.408413\n",
       "2006        10.900899   16.869361    10.817536     15.521893          5.074585\n",
       "2007        12.751516   11.782477     5.656636     58.200108         18.666607\n",
       "2008        10.923903   20.660661     3.757367      9.810378         21.087302\n",
       "2009         9.616562   -9.955202    10.037586     31.061938          3.901951\n",
       "2010         4.256241    0.138198    -1.450712     15.416174         27.657078\n",
       "2011        -0.995435   -0.469224     0.175895     -4.422722         -8.488320\n",
       "2012        -8.870068   -2.689961   -10.214462     -9.512230         -6.671475\n",
       "2013         2.977851   14.733542     5.630164     -2.173569         -7.846655\n",
       "2014         8.495844   21.385991     6.436120     41.956855         12.701788\n",
       "2015        10.099085   21.956210     0.390249     49.595902         17.685357\n",
       "2016        13.009793   14.228188     4.207639     26.187034         31.448572\n",
       "2017        17.243356   13.160987     5.339690     25.076130         45.665842\n",
       "2018        11.900481   15.005192     9.204380     16.396683         12.997229\n",
       "2019         7.264637    7.483070     4.316428     13.221224          9.473366\n",
       "2020        27.371237   15.541321    18.345894     67.408085         26.674802\n",
       "2021        -0.886234   -4.680542    -2.606840      1.689211          0.177613\n",
       "2022        -8.553329  -15.741800   -12.054082     -6.104139         -6.976989"
      ]
     },
     "execution_count": 10,
     "metadata": {},
     "output_type": "execute_result"
    }
   ],
   "source": [
    "# Create an empty DataFrame to store the results\n",
    "percentage_changes = pd.DataFrame()\n",
    "\n",
    "# Define the period\n",
    "years = range(2004, 2023) \n",
    "\n",
    "# Loop through each year and create the variable current_year_values and next_year_values\n",
    "for TID in years:\n",
    "    if TID + 1 in eco_api.index:\n",
    "        current_year_values = eco_api.loc[eco_api.index == TID, 'INDHOLD'].astype(float)\n",
    "        next_year_values = eco_api.loc[eco_api.index == TID + 1, 'INDHOLD'].astype(float)\n",
    "        \n",
    "        # Calculate the percentage change for each variable\n",
    "        change = (next_year_values.values - current_year_values.values) / current_year_values.values * 100\n",
    "        \n",
    "        # Create a new column in the results DataFrame for each year\n",
    "        percentage_changes[f'{TID+1}'] = change\n",
    "\n",
    "# Rename the index-column to the true variable names\n",
    "Variables_names = ['Total_Turn_Over' , 'Total_Meat' , 'Total_Dairy' , 'Total_Fruits' , 'Total_Vegetables' ]\n",
    "percentage_changes.index = Variables_names\n",
    "\n",
    "# Transpose the dataframe\n",
    "percentage_changes_transposed = percentage_changes.T\n",
    "percentage_changes_transposed = percentage_changes_transposed.rename_axis('TID')\n",
    "\n",
    "# Transform data to numeric values\n",
    "percentage_changes_transposed['Total_Turn_Over'] = pd.to_numeric(percentage_changes_transposed['Total_Turn_Over'])\n",
    "percentage_changes_transposed.index = pd.to_numeric(percentage_changes_transposed.index)\n",
    "\n",
    "# Display the results DataFrame\n",
    "percentage_changes_transposed.head(18)"
   ]
  },
  {
   "cell_type": "markdown",
   "metadata": {},
   "source": [
    "I plot the percentage change in the quantity sold of ecological goods in Denmark"
   ]
  },
  {
   "cell_type": "code",
   "execution_count": 16,
   "metadata": {},
   "outputs": [
    {
     "data": {
      "image/png": "[encoded data removed]",
      "text/plain": [
       "<Figure size 1000x600 with 1 Axes>"
      ]
     },
     "metadata": {},
     "output_type": "display_data"
    }
   ],
   "source": [
    "\n",
    "# Create a plot\n",
    "plt.figure(figsize=(10, 6))\n",
    "\n",
    "# Loop through each variable and plot the percentage change \n",
    "for variable in percentage_changes_transposed.columns:\n",
    "    plt.plot(percentage_changes_transposed.index, percentage_changes_transposed[variable], label=variable)\n",
    "\n",
    "# Adding labels and title\n",
    "plt.xlabel('Year')\n",
    "plt.ylabel('Percentage Change')\n",
    "plt.title('Percentage Change of Variables Over Time')\n",
    "plt.xticks(np.arange(2005, 2023, step=1))\n",
    "plt.legend()\n",
    "plt.grid(True)\n",
    "\n",
    "# Show plot\n",
    "plt.show()"
   ]
  },
  {
   "cell_type": "markdown",
   "metadata": {},
   "source": [
    "The plot shows huge flucturations in the growth of quantity of ecological goods sold over the period. Especially the growth in the amount sold of ecological fruits and vegetables are very volatile, while the amount of ecological dairy-products is rather constant."
   ]
  },
  {
   "cell_type": "markdown",
   "metadata": {},
   "source": [
    "I plot the percentage change in the inflation in Denmark"
   ]
  },
  {
   "cell_type": "code",
   "execution_count": 17,
   "metadata": {},
   "outputs": [
    {
     "data": {
      "image/png": "[encoded data removed]",
      "text/plain": [
       "<Figure size 1000x600 with 1 Axes>"
      ]
     },
     "metadata": {},
     "output_type": "display_data"
    }
   ],
   "source": [
    "# Plotting\n",
    "plt.figure(figsize=(10, 6))\n",
    "\n",
    "# Plotting inflation growth for each year\n",
    "plt.plot(inf_api.index, inf_api['Inflation'], color='blue', linestyle='-')\n",
    "\n",
    "# Adding labels and title\n",
    "plt.xlabel('Year')\n",
    "plt.ylabel('Inflation')\n",
    "plt.title('Inflation growth for each Year')\n",
    "plt.xticks(inf_api.index[::1])\n",
    "\n",
    "# Show plot\n",
    "plt.grid(True)\n",
    "plt.show()"
   ]
  },
  {
   "cell_type": "markdown",
   "metadata": {},
   "source": [
    "The plot shows a stabil growth in inflation between 0 pct. and 3.5 pct. a year in the period between 2005 and 2021. In 2022 the growth in inflation exploded with 7.7 pct., which is a huge outlier compared to the rest of the period."
   ]
  },
  {
   "cell_type": "markdown",
   "metadata": {},
   "source": [
    "# Merge data sets"
   ]
  },
  {
   "cell_type": "markdown",
   "metadata": {},
   "source": [
    "I merge the datasets `percentage_changes_trasposed` and `inf_api`. I use the join-method, as this method merge the datasets by the index-column."
   ]
  },
  {
   "cell_type": "code",
   "execution_count": 13,
   "metadata": {},
   "outputs": [
    {
     "data": {
      "text/html": [
       "<div>\n",
       "<style scoped>\n",
       "    .dataframe tbody tr th:only-of-type {\n",
       "        vertical-align: middle;\n",
       "    }\n",
       "\n",
       "    .dataframe tbody tr th {\n",
       "        vertical-align: top;\n",
       "    }\n",
       "\n",
       "    .dataframe thead th {\n",
       "        text-align: right;\n",
       "    }\n",
       "</style>\n",
       "<table border=\"1\" class=\"dataframe\">\n",
       "  <thead>\n",
       "    <tr style=\"text-align: right;\">\n",
       "      <th></th>\n",
       "      <th>Total_Turn_Over</th>\n",
       "      <th>Total_Meat</th>\n",
       "      <th>Total_Dairy</th>\n",
       "      <th>Total_Fruits</th>\n",
       "      <th>Total_Vegetables</th>\n",
       "      <th>Inflation</th>\n",
       "    </tr>\n",
       "    <tr>\n",
       "      <th>TID</th>\n",
       "      <th></th>\n",
       "      <th></th>\n",
       "      <th></th>\n",
       "      <th></th>\n",
       "      <th></th>\n",
       "      <th></th>\n",
       "    </tr>\n",
       "  </thead>\n",
       "  <tbody>\n",
       "    <tr>\n",
       "      <th>2005</th>\n",
       "      <td>8.923849</td>\n",
       "      <td>27.322677</td>\n",
       "      <td>7.140305</td>\n",
       "      <td>31.738655</td>\n",
       "      <td>17.408413</td>\n",
       "      <td>1.8</td>\n",
       "    </tr>\n",
       "    <tr>\n",
       "      <th>2006</th>\n",
       "      <td>10.900899</td>\n",
       "      <td>16.869361</td>\n",
       "      <td>10.817536</td>\n",
       "      <td>15.521893</td>\n",
       "      <td>5.074585</td>\n",
       "      <td>1.9</td>\n",
       "    </tr>\n",
       "    <tr>\n",
       "      <th>2007</th>\n",
       "      <td>12.751516</td>\n",
       "      <td>11.782477</td>\n",
       "      <td>5.656636</td>\n",
       "      <td>58.200108</td>\n",
       "      <td>18.666607</td>\n",
       "      <td>1.7</td>\n",
       "    </tr>\n",
       "    <tr>\n",
       "      <th>2008</th>\n",
       "      <td>10.923903</td>\n",
       "      <td>20.660661</td>\n",
       "      <td>3.757367</td>\n",
       "      <td>9.810378</td>\n",
       "      <td>21.087302</td>\n",
       "      <td>3.4</td>\n",
       "    </tr>\n",
       "    <tr>\n",
       "      <th>2009</th>\n",
       "      <td>9.616562</td>\n",
       "      <td>-9.955202</td>\n",
       "      <td>10.037586</td>\n",
       "      <td>31.061938</td>\n",
       "      <td>3.901951</td>\n",
       "      <td>1.3</td>\n",
       "    </tr>\n",
       "    <tr>\n",
       "      <th>2010</th>\n",
       "      <td>4.256241</td>\n",
       "      <td>0.138198</td>\n",
       "      <td>-1.450712</td>\n",
       "      <td>15.416174</td>\n",
       "      <td>27.657078</td>\n",
       "      <td>2.3</td>\n",
       "    </tr>\n",
       "    <tr>\n",
       "      <th>2011</th>\n",
       "      <td>-0.995435</td>\n",
       "      <td>-0.469224</td>\n",
       "      <td>0.175895</td>\n",
       "      <td>-4.422722</td>\n",
       "      <td>-8.488320</td>\n",
       "      <td>2.8</td>\n",
       "    </tr>\n",
       "    <tr>\n",
       "      <th>2012</th>\n",
       "      <td>-8.870068</td>\n",
       "      <td>-2.689961</td>\n",
       "      <td>-10.214462</td>\n",
       "      <td>-9.512230</td>\n",
       "      <td>-6.671475</td>\n",
       "      <td>2.4</td>\n",
       "    </tr>\n",
       "    <tr>\n",
       "      <th>2013</th>\n",
       "      <td>2.977851</td>\n",
       "      <td>14.733542</td>\n",
       "      <td>5.630164</td>\n",
       "      <td>-2.173569</td>\n",
       "      <td>-7.846655</td>\n",
       "      <td>0.8</td>\n",
       "    </tr>\n",
       "    <tr>\n",
       "      <th>2014</th>\n",
       "      <td>8.495844</td>\n",
       "      <td>21.385991</td>\n",
       "      <td>6.436120</td>\n",
       "      <td>41.956855</td>\n",
       "      <td>12.701788</td>\n",
       "      <td>0.6</td>\n",
       "    </tr>\n",
       "  </tbody>\n",
       "</table>\n",
       "</div>"
      ],
      "text/plain": [
       "      Total_Turn_Over  Total_Meat  Total_Dairy  Total_Fruits  \\\n",
       "TID                                                            \n",
       "2005         8.923849   27.322677     7.140305     31.738655   \n",
       "2006        10.900899   16.869361    10.817536     15.521893   \n",
       "2007        12.751516   11.782477     5.656636     58.200108   \n",
       "2008        10.923903   20.660661     3.757367      9.810378   \n",
       "2009         9.616562   -9.955202    10.037586     31.061938   \n",
       "2010         4.256241    0.138198    -1.450712     15.416174   \n",
       "2011        -0.995435   -0.469224     0.175895     -4.422722   \n",
       "2012        -8.870068   -2.689961   -10.214462     -9.512230   \n",
       "2013         2.977851   14.733542     5.630164     -2.173569   \n",
       "2014         8.495844   21.385991     6.436120     41.956855   \n",
       "\n",
       "      Total_Vegetables  Inflation  \n",
       "TID                                \n",
       "2005         17.408413        1.8  \n",
       "2006          5.074585        1.9  \n",
       "2007         18.666607        1.7  \n",
       "2008         21.087302        3.4  \n",
       "2009          3.901951        1.3  \n",
       "2010         27.657078        2.3  \n",
       "2011         -8.488320        2.8  \n",
       "2012         -6.671475        2.4  \n",
       "2013         -7.846655        0.8  \n",
       "2014         12.701788        0.6  "
      ]
     },
     "execution_count": 13,
     "metadata": {},
     "output_type": "execute_result"
    }
   ],
   "source": [
    "# Merge the two datasets by the index-column using the join-function \n",
    "dev = percentage_changes_transposed.join(inf_api) \n",
    "dev.head(10)"
   ]
  },
  {
   "cell_type": "markdown",
   "metadata": {},
   "source": [
    "The join-method keeps all elements in the datasets and merge the datasets by their index-column. It is important that the index-column is the same for both datasets to have a succesful merge. The index-column will only appear once after the merge. "
   ]
  },
  {
   "cell_type": "markdown",
   "metadata": {},
   "source": [
    "# Analysis"
   ]
  },
  {
   "cell_type": "markdown",
   "metadata": {},
   "source": [
    "**Interactive plot** :"
   ]
  },
  {
   "cell_type": "code",
   "execution_count": 14,
   "metadata": {},
   "outputs": [],
   "source": [
    "def plot_interactive(ax: plt.Axes, x: list, y: list, title: str, xlabel: str, ylabel: str):\n",
    "\n",
    "    # Create a line plot with a trend\n",
    "    ax.scatter(x, y)\n",
    "    sns.regplot(x = x, y = y, scatter = False, ax = ax)\n",
    "   \n",
    "    # Set the title and the labels for the axis\n",
    "    ax.set_title(title, fontsize = 12)\n",
    "    ax.set_xlabel(xlabel, fontsize = 12)\n",
    "    ax.set_ylabel(ylabel, fontsize = 12)"
   ]
  },
  {
   "cell_type": "code",
   "execution_count": 15,
   "metadata": {},
   "outputs": [
    {
     "data": {
      "application/vnd.jupyter.widget-view+json": {
       "model_id": "56c3105161254ffaa89e75ee8e403e06",
       "version_major": 2,
       "version_minor": 0
      },
      "text/plain": [
       "interactive(children=(Dropdown(description='Select Dataset', options=('Total Turn Over', 'Total Fruits', 'Tota…"
      ]
     },
     "metadata": {},
     "output_type": "display_data"
    },
    {
     "data": {
      "text/plain": [
       "<function __main__.plot_dataset(dataset_name)>"
      ]
     },
     "execution_count": 15,
     "metadata": {},
     "output_type": "execute_result"
    }
   ],
   "source": [
    "# Function to plot the selected dataset\n",
    "def plot_dataset(dataset_name):\n",
    "    fig, ax = plt.subplots(figsize=(10, 6))\n",
    "    \n",
    "    if dataset_name == 'Total Turn Over':\n",
    "        y = dev['Total_Turn_Over']\n",
    "        ylabel = 'Change in total turn over in pct'\n",
    "    elif dataset_name == 'Total Fruits':\n",
    "        y = dev['Total_Fruits']\n",
    "        ylabel = 'Change in total fruits in pct'\n",
    "    elif dataset_name == 'Total Vegetables':\n",
    "        y = dev['Total_Vegetables']\n",
    "        ylabel = 'Change in total vegetables in pct'\n",
    "    elif dataset_name == 'Total Dairy':\n",
    "        y = dev['Total_Dairy']\n",
    "        ylabel = 'Change in total dairy in pct'\n",
    "    elif dataset_name == 'Total Meat':\n",
    "        y = dev['Total_Meat']\n",
    "        ylabel = 'Change in total meat in pct'\n",
    "    else:\n",
    "        return\n",
    "    \n",
    "    plot_interactive(ax=ax, x=dev['Inflation'], y=y, title=f'{dataset_name} and Inflation', xlabel='Inflation in pct', ylabel=ylabel)\n",
    "    plt.show()\n",
    "\n",
    "# Dropdown widget to select dataset\n",
    "dropdown = Dropdown(options=['Total Turn Over', 'Total Fruits', 'Total Vegetables', 'Total Dairy', 'Total Meat'], description='Select Dataset')\n",
    "\n",
    "# Interactive plot using the dropdown widget\n",
    "interact(plot_dataset, dataset_name=dropdown)"
   ]
  },
  {
   "cell_type": "markdown",
   "metadata": {},
   "source": [
    "The interactive plot shows a weak tendency to have a lower quantity of goods sold, when the inflation is high. \n",
    "For most years the inflation has not been higher then 3.5 pct. and hence some of the effect is driven by the huge outlier in inflation of almost 8 pct. in 2022. "
   ]
  },
  {
   "cell_type": "markdown",
   "metadata": {},
   "source": [
    "I remove the outlier of 2022 to see if the negative correlation persist"
   ]
  },
  {
   "cell_type": "code",
   "execution_count": 19,
   "metadata": {},
   "outputs": [
    {
     "data": {
      "text/html": [
       "<div>\n",
       "<style scoped>\n",
       "    .dataframe tbody tr th:only-of-type {\n",
       "        vertical-align: middle;\n",
       "    }\n",
       "\n",
       "    .dataframe tbody tr th {\n",
       "        vertical-align: top;\n",
       "    }\n",
       "\n",
       "    .dataframe thead th {\n",
       "        text-align: right;\n",
       "    }\n",
       "</style>\n",
       "<table border=\"1\" class=\"dataframe\">\n",
       "  <thead>\n",
       "    <tr style=\"text-align: right;\">\n",
       "      <th></th>\n",
       "      <th>Total_Turn_Over</th>\n",
       "      <th>Total_Meat</th>\n",
       "      <th>Total_Dairy</th>\n",
       "      <th>Total_Fruits</th>\n",
       "      <th>Total_Vegetables</th>\n",
       "      <th>Inflation</th>\n",
       "    </tr>\n",
       "    <tr>\n",
       "      <th>TID</th>\n",
       "      <th></th>\n",
       "      <th></th>\n",
       "      <th></th>\n",
       "      <th></th>\n",
       "      <th></th>\n",
       "      <th></th>\n",
       "    </tr>\n",
       "  </thead>\n",
       "  <tbody>\n",
       "    <tr>\n",
       "      <th>2005</th>\n",
       "      <td>8.923849</td>\n",
       "      <td>27.322677</td>\n",
       "      <td>7.140305</td>\n",
       "      <td>31.738655</td>\n",
       "      <td>17.408413</td>\n",
       "      <td>1.8</td>\n",
       "    </tr>\n",
       "    <tr>\n",
       "      <th>2006</th>\n",
       "      <td>10.900899</td>\n",
       "      <td>16.869361</td>\n",
       "      <td>10.817536</td>\n",
       "      <td>15.521893</td>\n",
       "      <td>5.074585</td>\n",
       "      <td>1.9</td>\n",
       "    </tr>\n",
       "    <tr>\n",
       "      <th>2007</th>\n",
       "      <td>12.751516</td>\n",
       "      <td>11.782477</td>\n",
       "      <td>5.656636</td>\n",
       "      <td>58.200108</td>\n",
       "      <td>18.666607</td>\n",
       "      <td>1.7</td>\n",
       "    </tr>\n",
       "    <tr>\n",
       "      <th>2008</th>\n",
       "      <td>10.923903</td>\n",
       "      <td>20.660661</td>\n",
       "      <td>3.757367</td>\n",
       "      <td>9.810378</td>\n",
       "      <td>21.087302</td>\n",
       "      <td>3.4</td>\n",
       "    </tr>\n",
       "    <tr>\n",
       "      <th>2009</th>\n",
       "      <td>9.616562</td>\n",
       "      <td>-9.955202</td>\n",
       "      <td>10.037586</td>\n",
       "      <td>31.061938</td>\n",
       "      <td>3.901951</td>\n",
       "      <td>1.3</td>\n",
       "    </tr>\n",
       "    <tr>\n",
       "      <th>2010</th>\n",
       "      <td>4.256241</td>\n",
       "      <td>0.138198</td>\n",
       "      <td>-1.450712</td>\n",
       "      <td>15.416174</td>\n",
       "      <td>27.657078</td>\n",
       "      <td>2.3</td>\n",
       "    </tr>\n",
       "    <tr>\n",
       "      <th>2011</th>\n",
       "      <td>-0.995435</td>\n",
       "      <td>-0.469224</td>\n",
       "      <td>0.175895</td>\n",
       "      <td>-4.422722</td>\n",
       "      <td>-8.488320</td>\n",
       "      <td>2.8</td>\n",
       "    </tr>\n",
       "    <tr>\n",
       "      <th>2012</th>\n",
       "      <td>-8.870068</td>\n",
       "      <td>-2.689961</td>\n",
       "      <td>-10.214462</td>\n",
       "      <td>-9.512230</td>\n",
       "      <td>-6.671475</td>\n",
       "      <td>2.4</td>\n",
       "    </tr>\n",
       "    <tr>\n",
       "      <th>2013</th>\n",
       "      <td>2.977851</td>\n",
       "      <td>14.733542</td>\n",
       "      <td>5.630164</td>\n",
       "      <td>-2.173569</td>\n",
       "      <td>-7.846655</td>\n",
       "      <td>0.8</td>\n",
       "    </tr>\n",
       "    <tr>\n",
       "      <th>2014</th>\n",
       "      <td>8.495844</td>\n",
       "      <td>21.385991</td>\n",
       "      <td>6.436120</td>\n",
       "      <td>41.956855</td>\n",
       "      <td>12.701788</td>\n",
       "      <td>0.6</td>\n",
       "    </tr>\n",
       "    <tr>\n",
       "      <th>2015</th>\n",
       "      <td>10.099085</td>\n",
       "      <td>21.956210</td>\n",
       "      <td>0.390249</td>\n",
       "      <td>49.595902</td>\n",
       "      <td>17.685357</td>\n",
       "      <td>0.5</td>\n",
       "    </tr>\n",
       "    <tr>\n",
       "      <th>2016</th>\n",
       "      <td>13.009793</td>\n",
       "      <td>14.228188</td>\n",
       "      <td>4.207639</td>\n",
       "      <td>26.187034</td>\n",
       "      <td>31.448572</td>\n",
       "      <td>0.3</td>\n",
       "    </tr>\n",
       "    <tr>\n",
       "      <th>2017</th>\n",
       "      <td>17.243356</td>\n",
       "      <td>13.160987</td>\n",
       "      <td>5.339690</td>\n",
       "      <td>25.076130</td>\n",
       "      <td>45.665842</td>\n",
       "      <td>1.1</td>\n",
       "    </tr>\n",
       "    <tr>\n",
       "      <th>2018</th>\n",
       "      <td>11.900481</td>\n",
       "      <td>15.005192</td>\n",
       "      <td>9.204380</td>\n",
       "      <td>16.396683</td>\n",
       "      <td>12.997229</td>\n",
       "      <td>0.8</td>\n",
       "    </tr>\n",
       "    <tr>\n",
       "      <th>2019</th>\n",
       "      <td>7.264637</td>\n",
       "      <td>7.483070</td>\n",
       "      <td>4.316428</td>\n",
       "      <td>13.221224</td>\n",
       "      <td>9.473366</td>\n",
       "      <td>0.8</td>\n",
       "    </tr>\n",
       "    <tr>\n",
       "      <th>2020</th>\n",
       "      <td>27.371237</td>\n",
       "      <td>15.541321</td>\n",
       "      <td>18.345894</td>\n",
       "      <td>67.408085</td>\n",
       "      <td>26.674802</td>\n",
       "      <td>0.4</td>\n",
       "    </tr>\n",
       "    <tr>\n",
       "      <th>2021</th>\n",
       "      <td>-0.886234</td>\n",
       "      <td>-4.680542</td>\n",
       "      <td>-2.606840</td>\n",
       "      <td>1.689211</td>\n",
       "      <td>0.177613</td>\n",
       "      <td>1.9</td>\n",
       "    </tr>\n",
       "  </tbody>\n",
       "</table>\n",
       "</div>"
      ],
      "text/plain": [
       "      Total_Turn_Over  Total_Meat  Total_Dairy  Total_Fruits  \\\n",
       "TID                                                            \n",
       "2005         8.923849   27.322677     7.140305     31.738655   \n",
       "2006        10.900899   16.869361    10.817536     15.521893   \n",
       "2007        12.751516   11.782477     5.656636     58.200108   \n",
       "2008        10.923903   20.660661     3.757367      9.810378   \n",
       "2009         9.616562   -9.955202    10.037586     31.061938   \n",
       "2010         4.256241    0.138198    -1.450712     15.416174   \n",
       "2011        -0.995435   -0.469224     0.175895     -4.422722   \n",
       "2012        -8.870068   -2.689961   -10.214462     -9.512230   \n",
       "2013         2.977851   14.733542     5.630164     -2.173569   \n",
       "2014         8.495844   21.385991     6.436120     41.956855   \n",
       "2015        10.099085   21.956210     0.390249     49.595902   \n",
       "2016        13.009793   14.228188     4.207639     26.187034   \n",
       "2017        17.243356   13.160987     5.339690     25.076130   \n",
       "2018        11.900481   15.005192     9.204380     16.396683   \n",
       "2019         7.264637    7.483070     4.316428     13.221224   \n",
       "2020        27.371237   15.541321    18.345894     67.408085   \n",
       "2021        -0.886234   -4.680542    -2.606840      1.689211   \n",
       "\n",
       "      Total_Vegetables  Inflation  \n",
       "TID                                \n",
       "2005         17.408413        1.8  \n",
       "2006          5.074585        1.9  \n",
       "2007         18.666607        1.7  \n",
       "2008         21.087302        3.4  \n",
       "2009          3.901951        1.3  \n",
       "2010         27.657078        2.3  \n",
       "2011         -8.488320        2.8  \n",
       "2012         -6.671475        2.4  \n",
       "2013         -7.846655        0.8  \n",
       "2014         12.701788        0.6  \n",
       "2015         17.685357        0.5  \n",
       "2016         31.448572        0.3  \n",
       "2017         45.665842        1.1  \n",
       "2018         12.997229        0.8  \n",
       "2019          9.473366        0.8  \n",
       "2020         26.674802        0.4  \n",
       "2021          0.177613        1.9  "
      ]
     },
     "execution_count": 19,
     "metadata": {},
     "output_type": "execute_result"
    }
   ],
   "source": [
    "# Remove the year 2022 from the merged dataset\n",
    "merged = dev.loc[dev.index != 2022]\n",
    "merged.head(17)"
   ]
  },
  {
   "cell_type": "code",
   "execution_count": 20,
   "metadata": {},
   "outputs": [
    {
     "data": {
      "application/vnd.jupyter.widget-view+json": {
       "model_id": "fa5a932f932141a598d2e3d4059a0f48",
       "version_major": 2,
       "version_minor": 0
      },
      "text/plain": [
       "interactive(children=(Dropdown(description='Select Dataset', options=('Total Turn Over', 'Total Fruits', 'Tota…"
      ]
     },
     "metadata": {},
     "output_type": "display_data"
    },
    {
     "data": {
      "text/plain": [
       "<function __main__.plot_dataset(dataset_name)>"
      ]
     },
     "execution_count": 20,
     "metadata": {},
     "output_type": "execute_result"
    }
   ],
   "source": [
    "# Function to plot the selected dataset\n",
    "def plot_dataset(dataset_name):\n",
    "    fig, ax = plt.subplots(figsize=(10, 6))\n",
    "    \n",
    "    if dataset_name == 'Total Turn Over':\n",
    "        y = merged['Total_Turn_Over']\n",
    "        ylabel = 'Change in total turn over in pct'\n",
    "    elif dataset_name == 'Total Fruits':\n",
    "        y = merged['Total_Fruits']\n",
    "        ylabel = 'Change in total fruits in pct'\n",
    "    elif dataset_name == 'Total Vegetables':\n",
    "        y = merged['Total_Vegetables']\n",
    "        ylabel = 'Change in total vegetables in pct'\n",
    "    elif dataset_name == 'Total Dairy':\n",
    "        y = merged['Total_Dairy']\n",
    "        ylabel = 'Change in total dairy in pct'\n",
    "    elif dataset_name == 'Total Meat':\n",
    "        y = merged['Total_Meat']\n",
    "        ylabel = 'Change in total meat in pct'\n",
    "    else:\n",
    "        return\n",
    "    \n",
    "    plot_interactive(ax=ax, x=merged['Inflation'], y=y, title=f'{dataset_name} and Inflation', xlabel='Inflation in pct', ylabel=ylabel)\n",
    "    plt.show()\n",
    "\n",
    "# Dropdown widget to select dataset\n",
    "dropdown = Dropdown(options=['Total Turn Over', 'Total Fruits', 'Total Vegetables', 'Total Dairy', 'Total Meat'], description='Select Dataset')\n",
    "\n",
    "# Interactive plot using the dropdown widget\n",
    "interact(plot_dataset, dataset_name=dropdown)"
   ]
  },
  {
   "cell_type": "markdown",
   "metadata": {},
   "source": [
    "It is clear that the negative correlation weakens when the outlier is removed from the data set, but a weak negative correlation still persist. The negative correlation is most outspoken for the ecological fruits, but is also visable for the other ecological food products."
   ]
  },
  {
   "cell_type": "markdown",
   "metadata": {},
   "source": [
    "# Conclusion"
   ]
  },
  {
   "cell_type": "markdown",
   "metadata": {},
   "source": [
    "The data display the development in the growth in inflation and the growth in the quantity of ecological goods sold in Denmark in the period between 2005 and 2022.\n",
    "\n",
    "The recent years the development in the amount of ecological goods sold have been very volatile, especially for ecological fruits and vegetables, while the quantity of ecological dairy product sold has been more stabil. \n",
    "The growth in inflation has been between 0 and 3.5 pct. a year for the period before 2022. In 2022 the inflation growth exploded at a high of 7.7 pct. \n",
    "\n",
    "The analysis display a weak negative correlation between high inflation and the amount of ecological goods bought. As when inflation is high, the quantity of ecological goods sold is low. Treating goods of food as necessary goods, the analysis imply that when inflation is high constumers will tend to substitute away from ecological food products, presumably to buy more conventional food products. \n"
   ]
  }
 ],
 "metadata": {
  "kernelspec": {
   "display_name": "base",
   "language": "python",
   "name": "python3"
  },
  "language_info": {
   "codemirror_mode": {
    "name": "ipython",
    "version": 3
   },
   "file_extension": ".py",
   "mimetype": "text/x-python",
   "name": "python",
   "nbconvert_exporter": "python",
   "pygments_lexer": "ipython3",
   "version": "3.9.15"
  },
  "toc-autonumbering": true,
  "vscode": {
   "interpreter": {
    "hash": "47ef90cdf3004d3f859f1fb202523c65c07ba7c22eefd261b181f4744e2d0403"
   }
  }
 },
 "nbformat": 4,
 "nbformat_minor": 4
}

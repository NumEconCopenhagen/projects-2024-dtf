{
 "cells": [
  {
   "cell_type": "markdown",
   "metadata": {},
   "source": [
    "# Inaugural Project"
   ]
  },
  {
   "attachments": {},
   "cell_type": "markdown",
   "metadata": {},
   "source": [
    "> **Note the following:** \n",
    "> 1. This is an example of how to structure your **inaugural project**.\n",
    "> 1. Remember the general advice on structuring and commenting your code\n",
    "> 1. The `inauguralproject.py` file includes a function which can be used multiple times in this notebook."
   ]
  },
  {
   "cell_type": "markdown",
   "metadata": {},
   "source": [
    "Imports and set magics:"
   ]
  },
  {
   "cell_type": "code",
   "execution_count": null,
   "metadata": {},
   "outputs": [],
   "source": [
    "# Import modules\n",
    "import numpy as np\n",
    "from types import SimpleNamespace\n",
    "from scipy import optimize \n",
    "from scipy.optimize import minimize\n",
    "import pandas as pd\n",
    "import matplotlib.pyplot as plt\n",
    "plt.rcParams.update({\"axes.grid\":True,\"grid.color\":\"black\",\"grid.alpha\":\"0.25\",\"grid.linestyle\":\"--\"})\n",
    "plt.rcParams.update({'font.size': 14})\n",
    "\n",
    "# autoreload modules when code is run. Otherwise, python will not see recent changes.\n",
    "%load_ext autoreload\n",
    "%autoreload 2\n",
    "\n",
    "# Import your own code\n",
    "from inauguralproject import ExchangeEconomyClass"
   ]
  },
  {
   "cell_type": "markdown",
   "metadata": {},
   "source": [
    "# Question 1"
   ]
  },
  {
   "cell_type": "markdown",
   "metadata": {},
   "source": [
    "I use the utility functions defined in the py-file, and set up a for-loop with conditions for pareto improvements of the initial endowment."
   ]
  },
  {
   "cell_type": "code",
   "execution_count": null,
   "metadata": {},
   "outputs": [],
   "source": [
    "# Call the model from the py-file\n",
    "from inauguralproject import ExchangeEconomyClass\n",
    "model = ExchangeEconomyClass()\n",
    "par = model.par\n",
    "\n",
    "# Create discrete list\n",
    "N = 75\n",
    "list_1 = [i/N for i in range(N+1)]\n",
    "\n",
    "# Create empty lists for the results\n",
    "list_x1A = []\n",
    "list_x2A = []\n",
    "\n",
    "# Set up conditions for pareto improvements and append the pareto approvements to the empty lists\n",
    "for x1A in list_1:\n",
    "    for x2A in list_1:\n",
    "        x1B = 1 - x1A\n",
    "        x2B = 1 - x2A\n",
    "        if model.utility_A(x1A,x2A)>=model.utility_A(par.w1A,par.w2A) and model.utility_B(x1B,x2B)>=model.utility_B(par.w1B,par.w2B):\n",
    "            list_x1A.append(x1A)\n",
    "            list_x2A.append(x2A)\n",
    "\n",
    "print(\"Pareto improvements are:\", list_x1A , list_x2A)"
   ]
  },
  {
   "cell_type": "markdown",
   "metadata": {},
   "source": [
    "The for-loop creates a list of pareto improvements. I plot the pareto improvement below with blue circles. The initial endowment is shown by the black square."
   ]
  },
  {
   "cell_type": "code",
   "execution_count": null,
   "metadata": {},
   "outputs": [],
   "source": [
    "par = model.par\n",
    "\n",
    "# a. total endowment\n",
    "w1bar = 1.0\n",
    "w2bar = 1.0\n",
    "\n",
    "# b. figure set up\n",
    "fig = plt.figure(frameon=False,figsize=(6,6), dpi=100)\n",
    "ax_A = fig.add_subplot(1, 1, 1)\n",
    "\n",
    "ax_A.set_xlabel(\"$x_1^A$\")\n",
    "ax_A.set_ylabel(\"$x_2^A$\")\n",
    "\n",
    "temp = ax_A.twinx()\n",
    "temp.set_ylabel(\"$x_2^B$\")\n",
    "ax_B = temp.twiny()\n",
    "ax_B.set_xlabel(\"$x_1^B$\")\n",
    "ax_B.invert_xaxis()\n",
    "ax_B.invert_yaxis()\n",
    "\n",
    "# A\n",
    "ax_A.scatter(par.w1A,par.w2A,marker='s',color='black',label='initial endowment')\n",
    "\n",
    "# B\n",
    "ax_A.scatter(list_x1A,list_x2A,marker='o',color='blue',label='pareto-improvement')\n",
    "\n",
    "\n",
    "# limits\n",
    "ax_A.plot([0,w1bar],[0,0],lw=2,color='black')\n",
    "ax_A.plot([0,w1bar],[w2bar,w2bar],lw=2,color='black')\n",
    "ax_A.plot([0,0],[0,w2bar],lw=2,color='black')\n",
    "ax_A.plot([w1bar,w1bar],[0,w2bar],lw=2,color='black')\n",
    "\n",
    "ax_A.set_xlim([-0.1, w1bar + 0.1])\n",
    "ax_A.set_ylim([-0.1, w2bar + 0.1])    \n",
    "ax_B.set_xlim([w1bar + 0.1, -0.1])\n",
    "ax_B.set_ylim([w2bar + 0.1, -0.1])\n",
    "\n",
    "ax_A.legend(frameon=True,loc='upper right',bbox_to_anchor=(1.8,1.0));"
   ]
  },
  {
   "cell_type": "markdown",
   "metadata": {},
   "source": [
    "# Question 2"
   ]
  },
  {
   "cell_type": "markdown",
   "metadata": {},
   "source": [
    "I create a list that p1 should be part of and use a for-loop on the check_market_clearing function from the py-file to print the market errors for given prices of p1."
   ]
  },
  {
   "cell_type": "code",
   "execution_count": null,
   "metadata": {},
   "outputs": [],
   "source": [
    "# Create discrete list for p1\n",
    "N = 75\n",
    "p_1 = [0.5+2*i/N for i in range(N+1)]\n",
    "\n",
    "\n",
    "# Call the model from the py-file\n",
    "model = ExchangeEconomyClass()\n",
    "model.check_market_clearing\n",
    "\n",
    "\n",
    "# Solve model for errors\n",
    "for p1 in p_1:\n",
    "    error = model.check_market_clearing(p1)\n",
    "    print(p1, error)\n"
   ]
  },
  {
   "cell_type": "markdown",
   "metadata": {},
   "source": [
    "From the print, it is clear that there is a root where eps1 changes from a positive number to a negtive number, and eps2 changes from a negative number to a positive number. The market clearing price for p1 is then between 0,9267 and 0,9534"
   ]
  },
  {
   "cell_type": "markdown",
   "metadata": {},
   "source": [
    "# Question 3"
   ]
  },
  {
   "cell_type": "markdown",
   "metadata": {},
   "source": [
    "I use the optimizer to find the market clearing price, by searching for the root of eps1. "
   ]
  },
  {
   "cell_type": "code",
   "execution_count": null,
   "metadata": {},
   "outputs": [],
   "source": [
    "\n",
    "# Define an objective function (to find root)\n",
    "def obj(p1):\n",
    "    return model.check_market_clearing(p1)[0]\n",
    "\n",
    "# The function optimize.root will solve objective = 0 starting from x0 = 1, which is the guess of the price of p1\n",
    "res = optimize.root(fun = obj, x0 = 1)\n",
    "\n",
    "# Print the \n",
    "print('The market clearing price: ' , res.x)"
   ]
  },
  {
   "cell_type": "markdown",
   "metadata": {},
   "source": [
    "The market clearing price is p1 = 0.944 when p2 = 1 (set as numeraire).\n",
    "The walras law states that market clearing in n-1 markets also insures market clearing in the last market. "
   ]
  },
  {
   "cell_type": "markdown",
   "metadata": {},
   "source": [
    "# Question 4a"
   ]
  },
  {
   "cell_type": "code",
   "execution_count": null,
   "metadata": {},
   "outputs": [],
   "source": [
    "# Call the model from the py-file\n",
    "from inauguralproject import ExchangeEconomyClass\n",
    "model = ExchangeEconomyClass()\n",
    "par = model.par\n",
    "\n",
    "# define objective function to minimize the negative utility function to find maximum utility for consumer A\n",
    "def max_utility_A(p1):\n",
    "    objective = lambda x1B, x2B: -model.utility_A(1 - x1B, 1 - x2B)  \n",
    "    result = minimize(objective, bounds=(0, 1), method='bounded', x0=0)\n",
    "    xA = result.x\n",
    "    xB = 1 - xA\n",
    "    return p1, xA, xB\n",
    "\n",
    "# Find allocation for given price range\n",
    "allocations_p_1 = [max_utility_A(p1) for p1 in p_1]\n",
    "print(\"Allocations with prices in P1:\", allocations_p_1)\n"
   ]
  },
  {
   "cell_type": "code",
   "execution_count": null,
   "metadata": {},
   "outputs": [],
   "source": [
    "# Call the model from the py-file\n",
    "from inauguralproject import ExchangeEconomyClass\n",
    "model = ExchangeEconomyClass()\n",
    "par = model.par\n",
    "\n",
    "# Define objective function to maximize Consumer A's utility\n",
    "def objective(x):\n",
    "    return -model.utility_A(x[0],x[1])\n",
    "\n",
    "# Initial guess for allocation\n",
    "initial_x = [0 , 0]\n",
    "\n",
    "# Bounds for allocation\n",
    "bounds = ((0, 1) , (0, 1))\n",
    "\n",
    "# Solve the optimization problem\n",
    "result = minimize(objective, initial_x, bounds=bounds, method='SLSQP')\n",
    "\n",
    "# Optimal allocation\n",
    "optimal_allocation = result.x\n",
    "optimal_prices_str = ', '.join([f'{p:.2f}' for p in optimal_prices])\n",
    "\n",
    "print(\"Optimal prices:\", optimal_prices_str)\n"
   ]
  },
  {
   "cell_type": "markdown",
   "metadata": {},
   "source": [
    "# Question 4b"
   ]
  },
  {
   "cell_type": "code",
   "execution_count": null,
   "metadata": {},
   "outputs": [],
   "source": [
    "# Call the model from the py-file\n",
    "from inauguralproject import ExchangeEconomyClass\n",
    "model = ExchangeEconomyClass()\n",
    "par = model.par\n",
    "\n",
    "# Define objective function to maximize Consumer A's utility\n",
    "def objective(x):\n",
    "    return -model.utility_A(x[0],x[1])\n",
    "\n",
    "# Initial guess for allocation\n",
    "initial_x = [0 , 0]\n",
    "\n",
    "# Bounds for allocation\n",
    "bounds = ((0, 1) , (0, 1))\n",
    "\n",
    "# Solve the optimization problem\n",
    "result = minimize(objective, initial_x, bounds=bounds, method='SLSQP')\n",
    "\n",
    "# Optimal allocation\n",
    "optimal_allocation = result.x\n"
   ]
  },
  {
   "cell_type": "markdown",
   "metadata": {},
   "source": [
    "# Question 5a"
   ]
  },
  {
   "cell_type": "markdown",
   "metadata": {},
   "source": [
    "# Question 5b"
   ]
  },
  {
   "cell_type": "code",
   "execution_count": null,
   "metadata": {},
   "outputs": [],
   "source": [
    "from inauguralproject import ExchangeEconomyClass\n",
    "model = ExchangeEconomyClass()\n",
    "par = model.par\n",
    "\n",
    "def objective(x):\n",
    "    x1A, x2A = x\n",
    "    return - model.utility_A(x)\n",
    "\n",
    "def cons(x):\n",
    "    x1B , x2B = x\n",
    "    w1B , w2B = w\n",
    "    return model.utility_B(x) - model.utility_B(w)\n",
    "\n",
    "cons = {}\n",
    "\n",
    "# Bounds for x\n",
    "bounds = ()\n",
    "\n",
    "\n",
    "# Solve the optimization problem\n",
    "result = minimize(objective, initial_prices, bounds=bounds, method='SLSQP', constraints={'type': 'eq', 'fun': lambda p1: -model.check_market_clearing(p1)})\n"
   ]
  },
  {
   "cell_type": "markdown",
   "metadata": {},
   "source": [
    "# Question 6a"
   ]
  },
  {
   "cell_type": "code",
   "execution_count": null,
   "metadata": {},
   "outputs": [],
   "source": [
    "from inauguralproject import ExchangeEconomyClass\n",
    "model = ExchangeEconomyClass()\n",
    "par = model.par\n",
    "\n",
    "def max_utility(x1A, x2A, x1B, x2B):\n",
    "    return - model.utility_A(x1A, x2A)-model.utility_B(x1B, x2B)\n",
    "\n",
    "# Initial guess for allocation\n",
    "initial_x = [0 , 0 , 0 ,0]\n",
    "\n",
    "# Bounds for allocation\n",
    "bounds = ((0, 1) , (0, 1) , (0,1) , (0,1))\n",
    "\n",
    "# Solve the optimization problem\n",
    "result = minimize(max_utility, initial_x, bounds=bounds, method='SLSQP')\n"
   ]
  },
  {
   "cell_type": "markdown",
   "metadata": {},
   "source": [
    "# Question 6b"
   ]
  },
  {
   "cell_type": "markdown",
   "metadata": {},
   "source": [
    "# Question 7"
   ]
  },
  {
   "cell_type": "code",
   "execution_count": null,
   "metadata": {},
   "outputs": [],
   "source": [
    "np.random.seed(2002)\n",
    "\n",
    "# Defining the function W with the two elements with a uniform distribution \n",
    "def generate_w():\n",
    "    w_1_A = np.random.uniform(0 , 1) \n",
    "    w_2_A = np.random.uniform(0 , 1)  \n",
    "    return (w_1_A, w_2_A)\n",
    "\n",
    "# Draw a set with 50 elements from W\n",
    "for w_1_A in range(50):\n",
    "    for w_2_B in range(50):\n",
    "        W = list(generate_w())\n",
    "        print(W)\n"
   ]
  },
  {
   "cell_type": "markdown",
   "metadata": {},
   "source": [
    "# Question 8"
   ]
  },
  {
   "cell_type": "code",
   "execution_count": null,
   "metadata": {},
   "outputs": [],
   "source": [
    "for w_1_A in list_1:"
   ]
  },
  {
   "cell_type": "markdown",
   "metadata": {},
   "source": [
    "The project shows the Walras exchange economy. "
   ]
  }
 ],
 "metadata": {
  "kernelspec": {
   "display_name": "base",
   "language": "python",
   "name": "python3"
  },
  "language_info": {
   "codemirror_mode": {
    "name": "ipython",
    "version": 3
   },
   "file_extension": ".py",
   "mimetype": "text/x-python",
   "name": "python",
   "nbconvert_exporter": "python",
   "pygments_lexer": "ipython3",
   "version": "3.9.15"
  },
  "toc-autonumbering": true,
  "vscode": {
   "interpreter": {
    "hash": "47ef90cdf3004d3f859f1fb202523c65c07ba7c22eefd261b181f4744e2d0403"
   }
  }
 },
 "nbformat": 4,
 "nbformat_minor": 4
}
